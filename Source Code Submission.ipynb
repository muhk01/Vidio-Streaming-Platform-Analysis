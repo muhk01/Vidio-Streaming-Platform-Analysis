{
 "cells": [
  {
   "cell_type": "markdown",
   "metadata": {},
   "source": [
    "# Vidio Technical Test"
   ]
  },
  {
   "cell_type": "markdown",
   "metadata": {},
   "source": [
    "## Dataset's Details.\n",
    "Dataset Taken from careers.vidio.com with Detailed columns information as :\n",
    "\n",
    "Question:\n",
    "1. Conduct 1 exploratory data analysis from this dataset and present the exploratory, you could use presentation deck / docs / jupyter notebook. Using statistics method or ML model is a plus\n",
    "2. After conducting the Exploratory Analysis, what kind of insight that you could extract from this datasets? If you could tell us a stories around this data, it is a plus\n",
    "3. a What kind of tools that you use to work on this dataset?\n",
    "3. b Please let us know why and describe the significant advantage of that tools.\n",
    "4. How could we know the platform that user keenly used to watch? And how do you convince us that user are keenly watch on that platform? (For example, user keenly watch on web platform, because ... )\n",
    "5. Could you list top 10 visitors by using play_duration per day?\n",
    "\n",
    "<br>hash_content_id: content_id watched by the play\n",
    "<br>hash_play_uuid: id of the play\n",
    "<br>hash_visit_id: session_id of the play\n",
    "<br>hash_watcher_id: watcher_id of the play\n",
    "<br>hash_film_id: film_id of the play\n",
    "<br>hash_event_id: id of the play (deprecated)\n",
    "<br>is_login: boolean when user is logged_in when watch \n",
    "<br>playback_location: where user play the video (direct | embed)\n",
    "<br>platform: platform used to play\n",
    "<br>play_time: time the play started\n",
    "<br>end_time: time the play ended\n",
    "<br>referrer: attribution of the play, source of play coming from\n",
    "<br>average_bitrate: average bitrate of play\n",
    "<br>bitrate_range: bitrate_range set by user to play\n",
    "<br>total_bytes: bytes used when play\n",
    "<br>buffer_duration: buffer_duration happen while play content\n",
    "<br>referrer_group: group of referrer\n",
    "<br>completed: boolean which indicate the play is complete\n",
    "<br>utm_source: campaign source\n",
    "<br>utm_medium: campaign source\n",
    "<br>utm_campaign: campaign source\n",
    "<br>player_name: engine player_name\n",
    "<br>has_ad: indicating the play has ad or not\n",
    "<br>flash_version: \n",
    "<br>os_name: os_name of device use to play \n",
    "<br>os_version: os_version of device use to play\n",
    "<br>browser_name: browser name of device use to play\n",
    "<br>browser_version: browser version of device use to play\n",
    "<br>app_name: app_name used to play\n",
    "<br>autoplay: indicating the play is autoplay when watched on certain platform\n",
    "<br>is_premium: indicate the content played is a premium content\n",
    "<br>app_version: version app being used\n",
    "<br>city: city where the watcher_id play content\n",
    "<br>play_duration: duration of play\n",
    "<br>content_type: content type of content (livestreaming | vod | catchup)\n",
    "<br>stream_type: when content_type is livestreaming, stream_type is used to categorize the livestream (EventStream | TVStream | RadioStream)\n",
    "<br>title: title of content\n",
    "<br>category_name: category_name of content\n",
    "<br>film_title: title of film\n",
    "<br>season_name: season_name of film\n",
    "<br>genre_name: genre name of film (if the film is available)"
   ]
  },
  {
   "cell_type": "markdown",
   "metadata": {},
   "source": [
    "#### Importing Common Libraries."
   ]
  },
  {
   "cell_type": "code",
   "execution_count": 30,
   "metadata": {},
   "outputs": [],
   "source": [
    "import pandas as pd\n",
    "import numpy as np\n",
    "import matplotlib.pyplot as plt\n",
    "import seaborn as sns\n",
    "from scipy import stats"
   ]
  },
  {
   "cell_type": "markdown",
   "metadata": {},
   "source": [
    "#### Importing CSV file."
   ]
  },
  {
   "cell_type": "code",
   "execution_count": 31,
   "metadata": {},
   "outputs": [
    {
     "name": "stderr",
     "output_type": "stream",
     "text": [
      "b'Skipping line 7655: expected 41 fields, saw 42\\n'\n",
      "b'Skipping line 28027: expected 41 fields, saw 49\\nSkipping line 29868: expected 41 fields, saw 42\\n'\n",
      "b'Skipping line 41317: expected 41 fields, saw 49\\n'\n",
      "b'Skipping line 50334: expected 41 fields, saw 42\\nSkipping line 57183: expected 41 fields, saw 42\\nSkipping line 61465: expected 41 fields, saw 49\\n'\n",
      "b'Skipping line 68522: expected 41 fields, saw 49\\nSkipping line 74582: expected 41 fields, saw 42\\n'\n",
      "b'Skipping line 83509: expected 41 fields, saw 42\\nSkipping line 94944: expected 41 fields, saw 42\\n'\n",
      "b'Skipping line 130829: expected 41 fields, saw 42\\n'\n",
      "b'Skipping line 163627: expected 41 fields, saw 42\\n'\n",
      "b'Skipping line 185137: expected 41 fields, saw 42\\n'\n",
      "b'Skipping line 197897: expected 41 fields, saw 42\\nSkipping line 206057: expected 41 fields, saw 42\\n'\n",
      "b'Skipping line 213623: expected 41 fields, saw 42\\nSkipping line 216084: expected 41 fields, saw 42\\nSkipping line 227679: expected 41 fields, saw 49\\n'\n",
      "b'Skipping line 251548: expected 41 fields, saw 42\\nSkipping line 261391: expected 41 fields, saw 42\\nSkipping line 262030: expected 41 fields, saw 42\\n'\n",
      "b'Skipping line 264908: expected 41 fields, saw 42\\n'\n",
      "b'Skipping line 287859: expected 41 fields, saw 42\\n'\n",
      "b'Skipping line 299433: expected 41 fields, saw 42\\n'\n",
      "b'Skipping line 311877: expected 41 fields, saw 42\\nSkipping line 313477: expected 41 fields, saw 42\\nSkipping line 322023: expected 41 fields, saw 42\\nSkipping line 324768: expected 41 fields, saw 42\\n'\n",
      "b'Skipping line 337682: expected 41 fields, saw 42\\nSkipping line 338488: expected 41 fields, saw 42\\nSkipping line 339520: expected 41 fields, saw 42\\n'\n",
      "b'Skipping line 349423: expected 41 fields, saw 42\\n'\n",
      "b'Skipping line 369734: expected 41 fields, saw 49\\n'\n",
      "b'Skipping line 378702: expected 41 fields, saw 45\\n'\n",
      "b'Skipping line 418657: expected 41 fields, saw 49\\n'\n",
      "b'Skipping line 449543: expected 41 fields, saw 42\\n'\n",
      "b'Skipping line 461649: expected 41 fields, saw 49\\nSkipping line 466375: expected 41 fields, saw 49\\nSkipping line 473517: expected 41 fields, saw 49\\n'\n",
      "b'Skipping line 475529: expected 41 fields, saw 49\\n'\n",
      "b'Skipping line 492187: expected 41 fields, saw 42\\nSkipping line 496866: expected 41 fields, saw 42\\n'\n",
      "b'Skipping line 534249: expected 41 fields, saw 42\\nSkipping line 539042: expected 41 fields, saw 49\\n'\n",
      "b'Skipping line 562932: expected 41 fields, saw 42\\nSkipping line 563198: expected 41 fields, saw 42\\nSkipping line 566240: expected 41 fields, saw 49\\nSkipping line 571182: expected 41 fields, saw 42\\n'\n",
      "b'Skipping line 583341: expected 41 fields, saw 42\\nSkipping line 588749: expected 41 fields, saw 42\\n'\n",
      "b'Skipping line 591549: expected 41 fields, saw 42\\nSkipping line 591893: expected 41 fields, saw 49\\nSkipping line 595608: expected 41 fields, saw 42\\nSkipping line 596193: expected 41 fields, saw 42\\nSkipping line 596194: expected 41 fields, saw 42\\nSkipping line 601182: expected 41 fields, saw 57\\n'\n",
      "b'Skipping line 623671: expected 41 fields, saw 42\\nSkipping line 625063: expected 41 fields, saw 42\\nSkipping line 633708: expected 41 fields, saw 42\\nSkipping line 636424: expected 41 fields, saw 42\\n'\n",
      "b'Skipping line 642211: expected 41 fields, saw 42\\nSkipping line 644971: expected 41 fields, saw 42\\nSkipping line 649294: expected 41 fields, saw 42\\n'\n",
      "b'Skipping line 662233: expected 41 fields, saw 43\\n'\n",
      "b'Skipping line 688315: expected 41 fields, saw 42\\nSkipping line 697611: expected 41 fields, saw 42\\nSkipping line 700575: expected 41 fields, saw 42\\nSkipping line 702178: expected 41 fields, saw 49\\n'\n",
      "b'Skipping line 705345: expected 41 fields, saw 42\\n'\n"
     ]
    }
   ],
   "source": [
    "df = pd.read_csv('part-00000-4803092d-32ab-4912-b2ba-d37dd93537a2-c000.csv', error_bad_lines=False)"
   ]
  },
  {
   "cell_type": "markdown",
   "metadata": {},
   "source": [
    "#### Checking the Dataframe Preview."
   ]
  },
  {
   "cell_type": "code",
   "execution_count": 307,
   "metadata": {},
   "outputs": [
    {
     "data": {
      "text/plain": [
       "array(['Movies', 'News', 'Music', 'Entertainment', 'Sports', 'Vlog',\n",
       "       'Lifestyle', 'TV Show', 'Korea', nan, 'Kids', 'Funny', 'Horror',\n",
       "       'Education', 'Webtoon', 'Champions'], dtype=object)"
      ]
     },
     "execution_count": 307,
     "metadata": {},
     "output_type": "execute_result"
    }
   ],
   "source": [
    "df['category_name'].unique()"
   ]
  },
  {
   "cell_type": "code",
   "execution_count": 300,
   "metadata": {},
   "outputs": [
    {
     "data": {
      "text/html": [
       "<div>\n",
       "<style scoped>\n",
       "    .dataframe tbody tr th:only-of-type {\n",
       "        vertical-align: middle;\n",
       "    }\n",
       "\n",
       "    .dataframe tbody tr th {\n",
       "        vertical-align: top;\n",
       "    }\n",
       "\n",
       "    .dataframe thead th {\n",
       "        text-align: right;\n",
       "    }\n",
       "</style>\n",
       "<table border=\"1\" class=\"dataframe\">\n",
       "  <thead>\n",
       "    <tr style=\"text-align: right;\">\n",
       "      <th></th>\n",
       "      <th>is_login</th>\n",
       "      <th>playback_location</th>\n",
       "      <th>platform</th>\n",
       "      <th>play_time</th>\n",
       "      <th>end_time</th>\n",
       "      <th>referrer</th>\n",
       "      <th>average_bitrate</th>\n",
       "      <th>bitrate_range</th>\n",
       "      <th>total_bytes</th>\n",
       "      <th>buffer_duration</th>\n",
       "      <th>...</th>\n",
       "      <th>play_duration</th>\n",
       "      <th>content_type</th>\n",
       "      <th>stream_type</th>\n",
       "      <th>title</th>\n",
       "      <th>category_name</th>\n",
       "      <th>film_title</th>\n",
       "      <th>season_name</th>\n",
       "      <th>genre_name</th>\n",
       "      <th>hash_film_num</th>\n",
       "      <th>film_num</th>\n",
       "    </tr>\n",
       "  </thead>\n",
       "  <tbody>\n",
       "    <tr>\n",
       "      <th>0</th>\n",
       "      <td>True</td>\n",
       "      <td>direct</td>\n",
       "      <td>tv-android</td>\n",
       "      <td>2020-02-15T12:07:00.000Z</td>\n",
       "      <td>2020-02-15T12:28:49.000Z</td>\n",
       "      <td>search</td>\n",
       "      <td>300000.0</td>\n",
       "      <td>200-500</td>\n",
       "      <td>47362500</td>\n",
       "      <td>19.00</td>\n",
       "      <td>...</td>\n",
       "      <td>1263</td>\n",
       "      <td>vod</td>\n",
       "      <td>NaN</td>\n",
       "      <td>FTV SCTV - Kecubit Cinta Sahabat Chantiq</td>\n",
       "      <td>Movies</td>\n",
       "      <td>NaN</td>\n",
       "      <td>NaN</td>\n",
       "      <td>NaN</td>\n",
       "      <td>668</td>\n",
       "      <td>665</td>\n",
       "    </tr>\n",
       "    <tr>\n",
       "      <th>1</th>\n",
       "      <td>False</td>\n",
       "      <td>embed</td>\n",
       "      <td>web-mobile</td>\n",
       "      <td>2020-02-14T18:37:52.000Z</td>\n",
       "      <td>2020-02-14T18:37:52.000Z</td>\n",
       "      <td>https://m.vidio.com/embed/1899913?autoplay=false</td>\n",
       "      <td>300000.0</td>\n",
       "      <td>200-500</td>\n",
       "      <td>0</td>\n",
       "      <td>0.00</td>\n",
       "      <td>...</td>\n",
       "      <td>0</td>\n",
       "      <td>vod</td>\n",
       "      <td>NaN</td>\n",
       "      <td>Viral Seorang Siswi Dibully di Kelas, Gubernur...</td>\n",
       "      <td>News</td>\n",
       "      <td>NaN</td>\n",
       "      <td>NaN</td>\n",
       "      <td>NaN</td>\n",
       "      <td>668</td>\n",
       "      <td>665</td>\n",
       "    </tr>\n",
       "    <tr>\n",
       "      <th>2</th>\n",
       "      <td>False</td>\n",
       "      <td>embed</td>\n",
       "      <td>web-mobile</td>\n",
       "      <td>2020-02-15T11:58:24.000Z</td>\n",
       "      <td>2020-02-15T11:59:01.000Z</td>\n",
       "      <td>https://m.liputan6.com/regional/read/4177821/v...</td>\n",
       "      <td>300000.0</td>\n",
       "      <td>200-500</td>\n",
       "      <td>300000</td>\n",
       "      <td>0.29</td>\n",
       "      <td>...</td>\n",
       "      <td>8</td>\n",
       "      <td>vod</td>\n",
       "      <td>NaN</td>\n",
       "      <td>Viral Seorang Siswi Dibully di Kelas, Gubernur...</td>\n",
       "      <td>News</td>\n",
       "      <td>NaN</td>\n",
       "      <td>NaN</td>\n",
       "      <td>NaN</td>\n",
       "      <td>668</td>\n",
       "      <td>665</td>\n",
       "    </tr>\n",
       "    <tr>\n",
       "      <th>3</th>\n",
       "      <td>False</td>\n",
       "      <td>embed</td>\n",
       "      <td>web-mobile</td>\n",
       "      <td>2020-02-15T06:36:08.000Z</td>\n",
       "      <td>2020-02-15T06:37:08.000Z</td>\n",
       "      <td>https://m.liputan6.com/news/read/4178059/polis...</td>\n",
       "      <td>300000.0</td>\n",
       "      <td>200-500</td>\n",
       "      <td>1987500</td>\n",
       "      <td>0.00</td>\n",
       "      <td>...</td>\n",
       "      <td>53</td>\n",
       "      <td>vod</td>\n",
       "      <td>NaN</td>\n",
       "      <td>Viral Seorang Siswi Dibully di Kelas, Gubernur...</td>\n",
       "      <td>News</td>\n",
       "      <td>NaN</td>\n",
       "      <td>NaN</td>\n",
       "      <td>NaN</td>\n",
       "      <td>668</td>\n",
       "      <td>665</td>\n",
       "    </tr>\n",
       "    <tr>\n",
       "      <th>4</th>\n",
       "      <td>False</td>\n",
       "      <td>embed</td>\n",
       "      <td>web-mobile</td>\n",
       "      <td>2020-02-15T01:53:03.000Z</td>\n",
       "      <td>2020-02-15T01:53:57.000Z</td>\n",
       "      <td>https://today.line.me/id/article/Viral+Siswa+D...</td>\n",
       "      <td>300000.0</td>\n",
       "      <td>200-500</td>\n",
       "      <td>1987500</td>\n",
       "      <td>0.00</td>\n",
       "      <td>...</td>\n",
       "      <td>53</td>\n",
       "      <td>vod</td>\n",
       "      <td>NaN</td>\n",
       "      <td>Viral Seorang Siswi Dibully di Kelas, Gubernur...</td>\n",
       "      <td>News</td>\n",
       "      <td>NaN</td>\n",
       "      <td>NaN</td>\n",
       "      <td>NaN</td>\n",
       "      <td>668</td>\n",
       "      <td>665</td>\n",
       "    </tr>\n",
       "  </tbody>\n",
       "</table>\n",
       "<p>5 rows × 37 columns</p>\n",
       "</div>"
      ],
      "text/plain": [
       "   is_login playback_location    platform                 play_time  \\\n",
       "0      True            direct  tv-android  2020-02-15T12:07:00.000Z   \n",
       "1     False             embed  web-mobile  2020-02-14T18:37:52.000Z   \n",
       "2     False             embed  web-mobile  2020-02-15T11:58:24.000Z   \n",
       "3     False             embed  web-mobile  2020-02-15T06:36:08.000Z   \n",
       "4     False             embed  web-mobile  2020-02-15T01:53:03.000Z   \n",
       "\n",
       "                   end_time  \\\n",
       "0  2020-02-15T12:28:49.000Z   \n",
       "1  2020-02-14T18:37:52.000Z   \n",
       "2  2020-02-15T11:59:01.000Z   \n",
       "3  2020-02-15T06:37:08.000Z   \n",
       "4  2020-02-15T01:53:57.000Z   \n",
       "\n",
       "                                            referrer  average_bitrate  \\\n",
       "0                                             search         300000.0   \n",
       "1   https://m.vidio.com/embed/1899913?autoplay=false         300000.0   \n",
       "2  https://m.liputan6.com/regional/read/4177821/v...         300000.0   \n",
       "3  https://m.liputan6.com/news/read/4178059/polis...         300000.0   \n",
       "4  https://today.line.me/id/article/Viral+Siswa+D...         300000.0   \n",
       "\n",
       "  bitrate_range  total_bytes  buffer_duration  ... play_duration content_type  \\\n",
       "0       200-500     47362500            19.00  ...          1263          vod   \n",
       "1       200-500            0             0.00  ...             0          vod   \n",
       "2       200-500       300000             0.29  ...             8          vod   \n",
       "3       200-500      1987500             0.00  ...            53          vod   \n",
       "4       200-500      1987500             0.00  ...            53          vod   \n",
       "\n",
       "  stream_type                                              title  \\\n",
       "0         NaN           FTV SCTV - Kecubit Cinta Sahabat Chantiq   \n",
       "1         NaN  Viral Seorang Siswi Dibully di Kelas, Gubernur...   \n",
       "2         NaN  Viral Seorang Siswi Dibully di Kelas, Gubernur...   \n",
       "3         NaN  Viral Seorang Siswi Dibully di Kelas, Gubernur...   \n",
       "4         NaN  Viral Seorang Siswi Dibully di Kelas, Gubernur...   \n",
       "\n",
       "  category_name film_title  season_name genre_name hash_film_num film_num  \n",
       "0        Movies        NaN          NaN        NaN           668      665  \n",
       "1          News        NaN          NaN        NaN           668      665  \n",
       "2          News        NaN          NaN        NaN           668      665  \n",
       "3          News        NaN          NaN        NaN           668      665  \n",
       "4          News        NaN          NaN        NaN           668      665  \n",
       "\n",
       "[5 rows x 37 columns]"
      ]
     },
     "execution_count": 300,
     "metadata": {},
     "output_type": "execute_result"
    }
   ],
   "source": [
    "df.head()"
   ]
  },
  {
   "cell_type": "markdown",
   "metadata": {},
   "source": [
    "# 1. Get Dataset Properties."
   ]
  },
  {
   "cell_type": "code",
   "execution_count": 38,
   "metadata": {},
   "outputs": [
    {
     "name": "stdout",
     "output_type": "stream",
     "text": [
      "<class 'pandas.core.frame.DataFrame'>\n",
      "RangeIndex: 742582 entries, 0 to 742581\n",
      "Data columns (total 41 columns):\n",
      "hash_content_id      742582 non-null object\n",
      "hash_play_id         742582 non-null object\n",
      "hash_visit_id        742582 non-null object\n",
      "hash_watcher_id      742582 non-null object\n",
      "hash_film_id         40525 non-null object\n",
      "hash_event_id        742582 non-null object\n",
      "is_login             742582 non-null bool\n",
      "playback_location    742582 non-null object\n",
      "platform             742582 non-null object\n",
      "play_time            742582 non-null object\n",
      "end_time             742582 non-null object\n",
      "referrer             702119 non-null object\n",
      "average_bitrate      707495 non-null float64\n",
      "bitrate_range        742582 non-null object\n",
      "total_bytes          742582 non-null int64\n",
      "buffer_duration      742582 non-null float64\n",
      "referrer_group       742582 non-null object\n",
      "completed            471562 non-null object\n",
      "utm_source           785 non-null object\n",
      "utm_medium           782 non-null object\n",
      "utm_campaign         332 non-null object\n",
      "player_name          719707 non-null object\n",
      "has_ad               742582 non-null bool\n",
      "flash_version        499652 non-null object\n",
      "os_name              507258 non-null object\n",
      "os_version           739848 non-null object\n",
      "browser_name         507873 non-null object\n",
      "browser_version      491074 non-null object\n",
      "app_name             742582 non-null object\n",
      "autoplay             471415 non-null object\n",
      "is_premium           742582 non-null bool\n",
      "app_version          241680 non-null object\n",
      "city                 0 non-null float64\n",
      "play_duration        742582 non-null int64\n",
      "content_type         742582 non-null object\n",
      "stream_type          271020 non-null object\n",
      "title                742582 non-null object\n",
      "category_name        471562 non-null object\n",
      "film_title           40512 non-null object\n",
      "season_name          40525 non-null object\n",
      "genre_name           36031 non-null object\n",
      "dtypes: bool(3), float64(3), int64(2), object(33)\n",
      "memory usage: 217.4+ MB\n"
     ]
    }
   ],
   "source": [
    "df.info()"
   ]
  },
  {
   "cell_type": "markdown",
   "metadata": {},
   "source": [
    "## 1.1 Checking Null Count (dalam Persentasi %)"
   ]
  },
  {
   "cell_type": "markdown",
   "metadata": {},
   "source": [
    "** Is it necessary to drop columns??"
   ]
  },
  {
   "cell_type": "code",
   "execution_count": 39,
   "metadata": {},
   "outputs": [
    {
     "data": {
      "text/plain": [
       "city                 1.000000\n",
       "utm_campaign         0.999553\n",
       "utm_medium           0.998947\n",
       "utm_source           0.998943\n",
       "genre_name           0.951479\n",
       "film_title           0.945444\n",
       "season_name          0.945427\n",
       "hash_film_id         0.945427\n",
       "app_version          0.674541\n",
       "stream_type          0.635030\n",
       "autoplay             0.365168\n",
       "category_name        0.364970\n",
       "completed            0.364970\n",
       "browser_version      0.338694\n",
       "flash_version        0.327142\n",
       "os_name              0.316900\n",
       "browser_name         0.316071\n",
       "referrer             0.054490\n",
       "average_bitrate      0.047250\n",
       "player_name          0.030805\n",
       "os_version           0.003682\n",
       "hash_play_id         0.000000\n",
       "hash_visit_id        0.000000\n",
       "play_time            0.000000\n",
       "play_duration        0.000000\n",
       "hash_event_id        0.000000\n",
       "is_login             0.000000\n",
       "playback_location    0.000000\n",
       "platform             0.000000\n",
       "hash_watcher_id      0.000000\n",
       "bitrate_range        0.000000\n",
       "end_time             0.000000\n",
       "total_bytes          0.000000\n",
       "buffer_duration      0.000000\n",
       "referrer_group       0.000000\n",
       "content_type         0.000000\n",
       "title                0.000000\n",
       "is_premium           0.000000\n",
       "app_name             0.000000\n",
       "has_ad               0.000000\n",
       "hash_content_id      0.000000\n",
       "dtype: float64"
      ]
     },
     "execution_count": 39,
     "metadata": {},
     "output_type": "execute_result"
    }
   ],
   "source": [
    "df.isnull().mean().sort_values(ascending=False)"
   ]
  },
  {
   "cell_type": "markdown",
   "metadata": {},
   "source": [
    "** Pada penyajian Data terdapat beberapa kolom yang Null, tapi sebenarnya tidak benar benar null karena secara eksplisit nilai kolom ter-extend dalam kolom lain, contoh seperti kolom browser_name dan app_version, pada penyajian data tidak mungkin pengguna browser dan aplikasi (android or iOS) terdata bersamaan (kolom browser_name dan app_version) tidak Null, sehingga salah satu kolom mungkin Null (either apakah browser_name or app_version mungkin Null)."
   ]
  },
  {
   "cell_type": "code",
   "execution_count": 40,
   "metadata": {
    "scrolled": true
   },
   "outputs": [
    {
     "data": {
      "text/plain": [
       "array(['Mozilla/5.0 (SMART-TV; LINUX; Tizen 4.0) AppleWebKit/537.36 (KHTML, like Gecko) Version/4.0 TV Safari/537.36',\n",
       "       'Mozilla/5.0 (SMART-TV; LINUX; Tizen 5.0) AppleWebKit/537.36 (KHTML, like Gecko) Version/5.0 TV Safari/537.36',\n",
       "       'Mozilla/5.0 (SMART-TV; LINUX; Tizen 3.0) AppleWebKit/538.1 (KHTML, like Gecko) Version/3.0 TV Safari/538.1',\n",
       "       'Mozilla/5.0 (Web0S; Linux/SmartTV) AppleWebKit/537.36 (KHTML, like Gecko) Chrome/53.0.2785.34 Safari/537.36 WebAppManager'],\n",
       "      dtype=object)"
      ]
     },
     "execution_count": 40,
     "metadata": {},
     "output_type": "execute_result"
    }
   ],
   "source": [
    "df['browser_name'].loc[(df[\"browser_name\"].isna() == False) & (df[\"app_version\"].isna() == False)].unique()"
   ]
  },
  {
   "cell_type": "markdown",
   "metadata": {},
   "source": [
    "**Pada Analysis diatas ketika dilakukan checking terhadap apakah pengguna smartphone bisa tercatat bersamaan (browser_name dan app_version) ? ternyata yang dapat tercatat bersamaan hanya pengguna Smart TV, dan ini berarti pengguna smartphone hanya dicatat sekali yaitu apakah menggunakan browser atau aplikasi, sehingga salah satu kolom pasti Null / tidak perlu drop column pada kolom tersebut walapun persentase Null > 60%."
   ]
  },
  {
   "cell_type": "markdown",
   "metadata": {},
   "source": [
    "# 2. Exploratory Data Analysis "
   ]
  },
  {
   "cell_type": "markdown",
   "metadata": {},
   "source": [
    "## 1.2 Checking Hash ID datas."
   ]
  },
  {
   "cell_type": "code",
   "execution_count": 41,
   "metadata": {},
   "outputs": [
    {
     "data": {
      "text/plain": [
       "e3b0c44298fc1c149afbf4c8996fb92427ae41e4649b934ca495991b7852b855    4710\n",
       "133af93c4a0191b2d31fecb34b7653836abe32b769be2329dcc20696607a55bb     203\n",
       "83f4d120aaa71c673ceae6733feb59687272e7a00e2bc95baf46db98d4acab59     126\n",
       "4c7b2db7b81213a4a8ada022142a0ce320b1826b8ad079a9dfbbbf2bc3dfaaba     123\n",
       "8909a84bbdd20a837c88977687efe839d0aac7c72891ba2dcaff45802058a7bc     118\n",
       "Name: hash_watcher_id, dtype: int64"
      ]
     },
     "execution_count": 41,
     "metadata": {},
     "output_type": "execute_result"
    }
   ],
   "source": [
    "df['hash_watcher_id'].value_counts().nlargest(5)"
   ]
  },
  {
   "cell_type": "code",
   "execution_count": 42,
   "metadata": {},
   "outputs": [
    {
     "name": "stdout",
     "output_type": "stream",
     "text": [
      "hash_content_id 34084\n",
      "hash_play_id 742529\n",
      "hash_visit_id 727650\n",
      "hash_watcher_id 644474\n",
      "hash_film_id 668\n",
      "hash_event_id 742543\n"
     ]
    }
   ],
   "source": [
    "columns = ['hash_content_id', 'hash_play_id', 'hash_visit_id', 'hash_watcher_id',\n",
    "       'hash_film_id', 'hash_event_id']\n",
    "\n",
    "for col in columns:\n",
    "    print(f'{col} {df[col].nunique()}')"
   ]
  },
  {
   "cell_type": "markdown",
   "metadata": {},
   "source": [
    "**Saat melakukan checking pada kolom tiap hash, tiap kolom memiliki hampir unique ID, yang berarti informasi yang dihasilkan tidak begitu informatif plus untuk encoding hash code diperlukan decryptor yang sesuai, sehingga beberapa kolom yang terlalu banyak unique akan di drop saja, namun beberapa kolom seperti hash_watcher_id dan hash_film_id tidak akan di drop karena akan dilakukan statistical test dengan beberapa kolom apakah kolom ini saling berhubungan."
   ]
  },
  {
   "cell_type": "code",
   "execution_count": 43,
   "metadata": {},
   "outputs": [],
   "source": [
    "from sklearn.preprocessing import LabelEncoder"
   ]
  },
  {
   "cell_type": "code",
   "execution_count": 44,
   "metadata": {},
   "outputs": [],
   "source": [
    "enc = LabelEncoder()\n",
    "df['hash_film_num'] = enc.fit_transform(df['hash_film_id'].astype(str))\n",
    "df['film_num'] = enc.fit_transform(df['film_title'].astype(str))"
   ]
  },
  {
   "cell_type": "code",
   "execution_count": 45,
   "metadata": {},
   "outputs": [],
   "source": [
    "t, p = stats.ttest_ind(df['hash_film_num'],df['film_num'])"
   ]
  },
  {
   "cell_type": "code",
   "execution_count": 46,
   "metadata": {},
   "outputs": [
    {
     "name": "stdout",
     "output_type": "stream",
     "text": [
      "0.0\n"
     ]
    }
   ],
   "source": [
    "print(round(p,2))"
   ]
  },
  {
   "cell_type": "markdown",
   "metadata": {},
   "source": [
    "** Dengan Menggunakan T Test diketahui bahwa kolom hash_film_id dan film_title memiliki kesamaan dengan significat value 0.05 dan kita dapatkan adalah 0, sehingga kita bisa drop kolom hash_film_id."
   ]
  },
  {
   "cell_type": "markdown",
   "metadata": {},
   "source": [
    "** Atau tanpa menggunakan statistical test kita bisa tahu dengan menggunakan value counts nilai dari hash_film_id dan film_title memang sama."
   ]
  },
  {
   "cell_type": "code",
   "execution_count": 47,
   "metadata": {},
   "outputs": [
    {
     "data": {
      "text/plain": [
       "28955b1fb53203e2ff246fd2d4c3e148d4666a617469cdcc86060985682ab4bc    13778\n",
       "ddfe0e8d462af661f81db36589c39882dc0f2330785b5d80cd34f2f520ad618f     3569\n",
       "f53f2fb9b99180ea02b1f345b6c862e6bdde16e3b82a6886be0234d09a0e1645     3391\n",
       "6c0f3412848008d49d186d5fad7fd1482656cfb62ad3c060a14e41c3fb3f1b43     1786\n",
       "d6723fa996ced47773f2dea29cce9b11f951e6dafe321a84ac7d32791c3b4660     1622\n",
       "Name: hash_film_id, dtype: int64"
      ]
     },
     "execution_count": 47,
     "metadata": {},
     "output_type": "execute_result"
    }
   ],
   "source": [
    "df['hash_film_id'].value_counts().nlargest(5)"
   ]
  },
  {
   "cell_type": "code",
   "execution_count": 48,
   "metadata": {},
   "outputs": [
    {
     "data": {
      "text/plain": [
       "Samudra Cinta         13778\n",
       "Cinta Karena Cinta     3569\n",
       "GET MARRIED            3391\n",
       "LIPUTAN6.COM           1786\n",
       "I Love You Baby        1622\n",
       "Name: film_title, dtype: int64"
      ]
     },
     "execution_count": 48,
     "metadata": {},
     "output_type": "execute_result"
    }
   ],
   "source": [
    "df['film_title'].value_counts().nlargest(5)"
   ]
  },
  {
   "cell_type": "markdown",
   "metadata": {},
   "source": [
    "Jumlah kolom pada hash_film_id dan film_title memiliki count number yang sama sehingga kita bisa menghapus salah satu kolom."
   ]
  },
  {
   "cell_type": "code",
   "execution_count": 49,
   "metadata": {},
   "outputs": [],
   "source": [
    "df.drop(['hash_content_id', 'hash_play_id', 'hash_visit_id', 'hash_watcher_id',\n",
    "       'hash_film_id', 'hash_event_id'],axis=1,inplace=True)"
   ]
  },
  {
   "cell_type": "code",
   "execution_count": 50,
   "metadata": {},
   "outputs": [
    {
     "data": {
      "text/plain": [
       "Index(['is_login', 'playback_location', 'platform', 'play_time', 'end_time',\n",
       "       'referrer', 'average_bitrate', 'bitrate_range', 'total_bytes',\n",
       "       'buffer_duration', 'referrer_group', 'completed', 'utm_source',\n",
       "       'utm_medium', 'utm_campaign', 'player_name', 'has_ad', 'flash_version',\n",
       "       'os_name', 'os_version', 'browser_name', 'browser_version', 'app_name',\n",
       "       'autoplay', 'is_premium', 'app_version', 'city', 'play_duration',\n",
       "       'content_type', 'stream_type', 'title', 'category_name', 'film_title',\n",
       "       'season_name', 'genre_name', 'hash_film_num', 'film_num'],\n",
       "      dtype='object')"
      ]
     },
     "execution_count": 50,
     "metadata": {},
     "output_type": "execute_result"
    }
   ],
   "source": [
    "df.columns"
   ]
  },
  {
   "cell_type": "markdown",
   "metadata": {},
   "source": [
    "## 1.3 Univariate Analysis"
   ]
  },
  {
   "cell_type": "markdown",
   "metadata": {},
   "source": [
    "### 1.3.0 Analysis User Berdasarkan Platform."
   ]
  },
  {
   "cell_type": "markdown",
   "metadata": {},
   "source": [
    "### 1.3.0.1 Analysis pada Kolom Login."
   ]
  },
  {
   "cell_type": "code",
   "execution_count": 132,
   "metadata": {},
   "outputs": [
    {
     "data": {
      "text/plain": [
       "array([ True, False])"
      ]
     },
     "execution_count": 132,
     "metadata": {},
     "output_type": "execute_result"
    }
   ],
   "source": [
    "df['is_login'].unique()"
   ]
  },
  {
   "cell_type": "code",
   "execution_count": 121,
   "metadata": {},
   "outputs": [
    {
     "data": {
      "text/plain": [
       "<AxesSubplot:ylabel='is_login'>"
      ]
     },
     "execution_count": 121,
     "metadata": {},
     "output_type": "execute_result"
    },
    {
     "data": {
      "image/png": "[encoded data removed]",
      "text/plain": [
       "<Figure size 360x360 with 1 Axes>"
      ]
     },
     "metadata": {},
     "output_type": "display_data"
    }
   ],
   "source": [
    "colors = sns.color_palette('pastel')[0:5]\n",
    "df['is_login'].value_counts().plot(kind='pie',autopct='%1.1f%%',figsize=(5, 5),colors = colors)"
   ]
  },
  {
   "cell_type": "markdown",
   "metadata": {},
   "source": [
    "**Dapat disimpulkan bahwa 77% pengguna memang tidak login saat membuka aplikasi ini, dan memang saat saya sendiri mencoba membuka aplikasi 'Vidio' kita memang tidak memerlukan login untuk menonton acara / stream, sehingga orang yang memang berniat untuk tidak login karena memang begitu mudah nya untuk melakukan stream acara favorite. "
   ]
  },
  {
   "cell_type": "markdown",
   "metadata": {},
   "source": [
    "### 1.3.0.2 Analysis pada Platform User."
   ]
  },
  {
   "cell_type": "code",
   "execution_count": 133,
   "metadata": {},
   "outputs": [
    {
     "data": {
      "text/plain": [
       "array(['tv-android', 'web-mobile', 'app-android', 'web-desktop',\n",
       "       'tv-tizen', 'app-ios', 'tv-webos'], dtype=object)"
      ]
     },
     "execution_count": 133,
     "metadata": {},
     "output_type": "execute_result"
    }
   ],
   "source": [
    "df['platform'].unique()"
   ]
  },
  {
   "cell_type": "markdown",
   "metadata": {},
   "source": [
    "**Berikut adalah Jumlah total pengguna berdasarkan platform yang mereka gunakan untuk melakukan streaming."
   ]
  },
  {
   "cell_type": "code",
   "execution_count": 134,
   "metadata": {},
   "outputs": [
    {
     "data": {
      "text/plain": [
       "web-mobile     428312\n",
       "app-android    180778\n",
       "web-desktop     71340\n",
       "tv-android      41379\n",
       "app-ios         12552\n",
       "tv-tizen         7053\n",
       "tv-webos         1168\n",
       "Name: platform, dtype: int64"
      ]
     },
     "execution_count": 134,
     "metadata": {},
     "output_type": "execute_result"
    }
   ],
   "source": [
    "df['platform'].value_counts()"
   ]
  },
  {
   "cell_type": "code",
   "execution_count": 136,
   "metadata": {},
   "outputs": [
    {
     "data": {
      "image/png": "[encoded data removed]",
      "text/plain": [
       "<Figure size 648x432 with 1 Axes>"
      ]
     },
     "metadata": {
      "needs_background": "light"
     },
     "output_type": "display_data"
    }
   ],
   "source": [
    "plt.figure(figsize=(9,6))\n",
    "ax = sns.countplot((df['platform'].replace(np.nan, 'Other')),order =df['platform'].value_counts().index,palette=sns.color_palette('BuPu_r', n_colors=10))\n",
    "\n",
    "# Customize the axes and title\n",
    "ax.set_title(\"Perbandingan Platform\")\n",
    "ax.set_xlabel(\"Platform\")\n",
    "ax.set_ylabel(\"Jumlah\")\n",
    "\n",
    "plt.show()"
   ]
  },
  {
   "cell_type": "markdown",
   "metadata": {},
   "source": [
    "**Dari sini dapat kita ketahui bahwa banyak pengguna menggunakan web-mobile, disusul pada aplikasi android, dan web-pc/desktop, untuk alasan mengapa banyak membuka dari web-mobile akan di analysis lebih lanjut pada Bivariative Analysis."
   ]
  },
  {
   "cell_type": "markdown",
   "metadata": {},
   "source": [
    "### 1.3.1 Analysis User berdasarkan pada Type Stream"
   ]
  },
  {
   "cell_type": "code",
   "execution_count": 52,
   "metadata": {},
   "outputs": [
    {
     "data": {
      "text/plain": [
       "array([nan, 'TvStream', 'EventStream'], dtype=object)"
      ]
     },
     "execution_count": 52,
     "metadata": {},
     "output_type": "execute_result"
    }
   ],
   "source": [
    "df['stream_type'].unique()"
   ]
  },
  {
   "cell_type": "markdown",
   "metadata": {},
   "source": [
    "** Dari stream type kita bisa mengetahui bahwa ada tiga kategori utama berdasarkan streaming type, yaitu TvStream, EventStream, dan Nan, Nan disini maksudnya adalah stream type yang lain atau other methods, setelah ini akan di analysis jumlah masing masing kategori berdasarkan stream type ini."
   ]
  },
  {
   "cell_type": "code",
   "execution_count": 55,
   "metadata": {},
   "outputs": [
    {
     "data": {
      "text/plain": [
       "NaN            63.503021\n",
       "TvStream       35.684948\n",
       "EventStream     0.812032\n",
       "Name: stream_type, dtype: float64"
      ]
     },
     "execution_count": 55,
     "metadata": {},
     "output_type": "execute_result"
    }
   ],
   "source": [
    "df['stream_type'].value_counts(dropna=False) / len(df) * 100"
   ]
  },
  {
   "cell_type": "markdown",
   "metadata": {},
   "source": [
    "** Berdasarkan type Stream diketahui bahwa dari total semua pengguna ada 63% dengan type Other, 35% adalah TvStream lalu dengan tingkat paling bawah adalah EventStream."
   ]
  },
  {
   "cell_type": "code",
   "execution_count": 68,
   "metadata": {},
   "outputs": [
    {
     "data": {
      "image/png": "[encoded data removed]",
      "text/plain": [
       "<Figure size 648x432 with 1 Axes>"
      ]
     },
     "metadata": {
      "needs_background": "light"
     },
     "output_type": "display_data"
    }
   ],
   "source": [
    "plt.figure(figsize=(9,6))\n",
    "ax = sns.countplot((df['stream_type'].replace(np.nan, 'Other')),order = df['stream_type'].replace(np.nan, 'Other').value_counts().index,palette=sns.color_palette('BuPu_r', n_colors=10))\n",
    "\n",
    "# Customize the axes and title\n",
    "ax.set_title(\"Perbandingan User\")\n",
    "ax.set_xlabel(\"Type\")\n",
    "ax.set_ylabel(\"Jumlah\")\n",
    "\n",
    "plt.show()"
   ]
  },
  {
   "cell_type": "markdown",
   "metadata": {},
   "source": [
    "**Dapat dilihat bahwa persentase dan jumlah dari typeStream Other merupakan yang tertinggi, diikuti oleh TvStream dan EventStream, lalu kategori apakah yang termasuk dari Other, TvStream, ataupun EventStream itu??"
   ]
  },
  {
   "cell_type": "markdown",
   "metadata": {},
   "source": [
    "### 1.3.2 Analysis Kategori Streaming berdasarkan Per-Segmen Type Stream."
   ]
  },
  {
   "cell_type": "markdown",
   "metadata": {},
   "source": [
    "### 1.3.2.1 Analysis pada Segmen Other."
   ]
  },
  {
   "cell_type": "markdown",
   "metadata": {},
   "source": [
    "**Seperti yang diketahui bahwa Type stream memiliki 3 Kategori utama, pertama kita analisis untuk Type Other."
   ]
  },
  {
   "cell_type": "code",
   "execution_count": 69,
   "metadata": {},
   "outputs": [
    {
     "data": {
      "text/plain": [
       "array(['Movies', 'News', 'Music', 'Entertainment', 'Sports', 'Vlog',\n",
       "       'Lifestyle', 'TV Show', 'Korea', 'Kids', 'Funny', 'Horror',\n",
       "       'Education', 'Webtoon', 'Champions'], dtype=object)"
      ]
     },
     "execution_count": 69,
     "metadata": {},
     "output_type": "execute_result"
    }
   ],
   "source": [
    "df['category_name'].loc[df['stream_type'].isna() == True].unique()"
   ]
  },
  {
   "cell_type": "markdown",
   "metadata": {},
   "source": [
    "** Segment Other terdiri dari Movies, News, Music, Entertainment, etc.. seperti diatas mari kita hitung per masing masing kategori ini."
   ]
  },
  {
   "cell_type": "code",
   "execution_count": 76,
   "metadata": {},
   "outputs": [
    {
     "data": {
      "text/plain": [
       "Entertainment    152818\n",
       "News             147098\n",
       "Sports            53969\n",
       "Movies            39928\n",
       "TV Show           30181\n",
       "Name: category_name, dtype: int64"
      ]
     },
     "execution_count": 76,
     "metadata": {},
     "output_type": "execute_result"
    }
   ],
   "source": [
    "df['category_name'].loc[df['stream_type'].isna() == True].value_counts().nlargest(5)"
   ]
  },
  {
   "cell_type": "markdown",
   "metadata": {},
   "source": [
    "** Apabila di ranking 5 Besar maka Entertainment berada di Posisi teratas disusul dengan news, sport, movies, dan TV Show."
   ]
  },
  {
   "cell_type": "code",
   "execution_count": 106,
   "metadata": {},
   "outputs": [
    {
     "data": {
      "image/png": "[encoded data removed]",
      "text/plain": [
       "<Figure size 1080x576 with 1 Axes>"
      ]
     },
     "metadata": {
      "needs_background": "light"
     },
     "output_type": "display_data"
    }
   ],
   "source": [
    "plt.figure(figsize=(15,8))\n",
    "ax = sns.barplot(x=df['category_name'].loc[df['stream_type'].isna() == True].value_counts().nlargest(5),y=df['category_name'].loc[df['stream_type'].isna() == True].value_counts().nlargest(5).index,palette=sns.color_palette('BuPu_r', n_colors=10) )\n",
    "ax.set_title(\"Top 5 Channel Live Streaming\")\n",
    "ax.set_xlabel(\"Jumlah\")\n",
    "plt.savefig('Top 5 Channel Live Streaming')\n",
    "plt.show()"
   ]
  },
  {
   "cell_type": "markdown",
   "metadata": {},
   "source": [
    "** Disini memang dari Kategori entertainment merupakan kategori yang sangat diminati oleh banyak pengguna di seluruh Indonesia, kita juga bisa mengetahui Top acara pada masing masing kategori ini dan alasan mengapa Entertain menjadi yang paling diminati."
   ]
  },
  {
   "cell_type": "markdown",
   "metadata": {},
   "source": [
    "#### Judul Judul terpopuler dalam kategori terfavorite."
   ]
  },
  {
   "cell_type": "code",
   "execution_count": 92,
   "metadata": {},
   "outputs": [
    {
     "name": "stdout",
     "output_type": "stream",
     "text": [
      "Entertainment dengan Judul \n",
      "1. Babak Baru Daus Mini Vs Daus Mini ‘KW'\n",
      "2. Istri Akui Cemburuan, Daus Mini: Coverboy Sih Nggak ya\n",
      "3. Ibunda Annisa Bahar Meninggal Dunia\n",
      "4. Lucinta Luna Depresi, Sempat Ingin Bunuh Diri 3 Kali\n",
      "5. Potret Aktifitas Prisia Nasution Saat Jelajahi Alam\n",
      "\n",
      "\n",
      "News dengan Judul \n",
      "1. Video Polisi Tes Kandungan Sabu Cair dalam Mainan Anak-anak\n",
      "2. Kesal Obat Habis, Pria Wuhan Sengaja Batuk ke Arah Perawat\n",
      "3. Klinik dan 3 Rumah Warga Pancoran Ludes Terbakar\n",
      "4. Dony Pedro \\King of The King\\\" Kerajaan Baru di Tangerang\"\n",
      "5. Begini Reaksi Ular Kobra Saat Diajak Breakdance\n",
      "\n",
      "\n",
      "Sports dengan Judul \n",
      "1. Transfer Mengejutkan Manchester United pada Januari 2020\n",
      "2. Masa Depan Lionel Messi Versi Pep Guardiola\n",
      "3. Kritikan Pedas Lionel Messi Untuk Barcelona\n",
      "4. Gagal Juara di MotoGP, Rossi Jadi Terbaik di Balap Mobil\n",
      "5. Hasil Serie A Pekan 22, Juventus Bungkam Fiorentina 3-0\n",
      "\n",
      "\n",
      "Movies dengan Judul \n",
      "1. Gak Perlu Nonton Film Pertamanya | TEMAN TAPI MENIKAH 2\n",
      "2. Episode 01 - Mae Jadi Apa?\n",
      "3. Vanesha Prescilla Paling Suka Adegan Dibonceng Dilan | MILEA: SUARA DARI DILAN\n",
      "4. Zaenab di Lokasi Syuting, Paling Banyak Makan | AKHIR KISAH CINTA SI DOEL\n",
      "5. Episode 01\n",
      "\n",
      "\n",
      "TV Show dengan Judul \n",
      "1. Samudra Cinta - Episode 123\n",
      "2. Samudra Cinta - Episode 126\n",
      "3. Samudra Cinta - Episode 129\n",
      "4. Samudra Cinta - Episode 120\n",
      "5. Samudra Cinta - Episode 130 dan 131 Part 2/2\n",
      "\n",
      "\n"
     ]
    }
   ],
   "source": [
    "top5title = df['category_name'].loc[df['stream_type'].isna() == True].value_counts().nlargest(5).index.tolist()\n",
    "for judul in top5title:\n",
    "    print(f'{judul} dengan Judul ')\n",
    "    for i,fav in enumerate(df['title'].loc[df['category_name'] == judul].value_counts().nlargest(5).index.tolist()):\n",
    "        print(f'{i+1}. {fav}')\n",
    "    print('\\n')"
   ]
  },
  {
   "cell_type": "markdown",
   "metadata": {},
   "source": [
    "** Judul judul diatas merupakan yang paling terpopuler pada kategori other, Khusus nya pada kategori yang memiliki skor tertinggi dari Entertainment dan Gossip tentang Artis memang merupakan salah satu acara yang paling Tinggi dari ke 5 Top teratas , selanjutnya adalah analysis pada kategori TvStream."
   ]
  },
  {
   "cell_type": "markdown",
   "metadata": {},
   "source": [
    "### 1.3.2.2 Analysis pada Segmen TvStream."
   ]
  },
  {
   "cell_type": "code",
   "execution_count": 101,
   "metadata": {},
   "outputs": [
    {
     "data": {
      "text/plain": [
       "array([nan], dtype=object)"
      ]
     },
     "execution_count": 101,
     "metadata": {},
     "output_type": "execute_result"
    }
   ],
   "source": [
    "df['category_name'].loc[df['stream_type'] == 'TvStream'].unique()"
   ]
  },
  {
   "cell_type": "markdown",
   "metadata": {},
   "source": [
    "**Berbeda dengan kategori Other yang memiliki kategori, TvStream bisa dikatakan adalah streaming 'Live' sehingga tidak memiliki kategori khusus karena dalam 'Live' Stream bisa berbagai macam acara mulai dari kartun, news, entertainment, gossip, dll. Dan berikut merupakan TOP Channel TV yang sering dijadikan Streaming."
   ]
  },
  {
   "cell_type": "code",
   "execution_count": 104,
   "metadata": {},
   "outputs": [
    {
     "data": {
      "text/plain": [
       "SCTV        56120\n",
       "Indosiar    43190\n",
       "RCTI        34298\n",
       "TRANS TV    27934\n",
       "Trans7      21679\n",
       "Name: title, dtype: int64"
      ]
     },
     "execution_count": 104,
     "metadata": {},
     "output_type": "execute_result"
    }
   ],
   "source": [
    "df['title'].loc[df['stream_type'] == 'TvStream'].value_counts().nlargest(5)"
   ]
  },
  {
   "cell_type": "code",
   "execution_count": 105,
   "metadata": {},
   "outputs": [
    {
     "data": {
      "image/png": "[encoded data removed]",
      "text/plain": [
       "<Figure size 1080x576 with 1 Axes>"
      ]
     },
     "metadata": {
      "needs_background": "light"
     },
     "output_type": "display_data"
    }
   ],
   "source": [
    "plt.figure(figsize=(15,8))\n",
    "ax = sns.barplot(x=df['title'].loc[df['stream_type'] == 'TvStream'].value_counts().nlargest(5),y=df['title'].loc[df['stream_type'] == 'TvStream'].value_counts().nlargest(5).index,palette=sns.color_palette('BuPu_r', n_colors=10) )\n",
    "ax.set_title(\"Top 5 Channel Live Streaming\")\n",
    "ax.set_xlabel(\"Jumlah\")\n",
    "plt.savefig('Top 5 Channel Live Streaming')\n",
    "plt.show()"
   ]
  },
  {
   "cell_type": "markdown",
   "metadata": {},
   "source": [
    "** Disini SCTV merupakan channel yang sangat diminati dan banyak penonton nya"
   ]
  },
  {
   "cell_type": "markdown",
   "metadata": {},
   "source": [
    "### 1.3.2.3 Analysis pada Segmen EventStream."
   ]
  },
  {
   "cell_type": "code",
   "execution_count": 112,
   "metadata": {},
   "outputs": [
    {
     "data": {
      "text/plain": [
       "array([nan], dtype=object)"
      ]
     },
     "execution_count": 112,
     "metadata": {},
     "output_type": "execute_result"
    }
   ],
   "source": [
    "df['category_name'].loc[df['stream_type'] == 'TvStream'].unique()"
   ]
  },
  {
   "cell_type": "markdown",
   "metadata": {},
   "source": [
    "** Sama dengan TvStream, Event Stream tidak memiliki Kategori khusus, "
   ]
  },
  {
   "cell_type": "code",
   "execution_count": 114,
   "metadata": {},
   "outputs": [
    {
     "data": {
      "text/plain": [
       "Vidio Talk Ngobrol Bareng Iqbaal dan Vanesha - 10 Feb 2020 | 16:00WIB                                 813\n",
       "SINEMANIA \\Get Married - Vidio Original Series\\\" BARENG DAVID & YULIANA - 16 Feb 2020 | 14:00 WIB\"    809\n",
       "NBA All-Star 2020 - All Star Game - 17 Feb 2020 | 08:00 WIB                                           769\n",
       "Sinemania \\Get Married - Vidio Original Series\\\" Bareng David & Yuliana - 16 Feb 2020 | 14:00 WIB\"    755\n",
       "BAPER (BAWA PERUBAHAN) - Komunikasi Lewat Secangkir Kopi - 06 Feb 2020 | 15:00 WIB                    630\n",
       "Name: title, dtype: int64"
      ]
     },
     "execution_count": 114,
     "metadata": {},
     "output_type": "execute_result"
    }
   ],
   "source": [
    "df['title'].loc[df['stream_type'] == 'EventStream'].value_counts().nlargest(5)"
   ]
  },
  {
   "cell_type": "markdown",
   "metadata": {},
   "source": [
    "**Dari namanya sudah diketahui bahwa EventStream merupakan kategori yang berkaitan dengan event tertentu yang mungkin tidak pernah terulang / event khusus, dan Judul pada Tabel diatas merupakan yang terpopuler saat ini."
   ]
  },
  {
   "cell_type": "markdown",
   "metadata": {},
   "source": [
    "### 1.3.3 Analysis Content Type."
   ]
  },
  {
   "cell_type": "markdown",
   "metadata": {},
   "source": [
    "**Berdasarkan Type Konten terbagi menjadi 3 bagian sebagai berikut."
   ]
  },
  {
   "cell_type": "code",
   "execution_count": 122,
   "metadata": {},
   "outputs": [
    {
     "data": {
      "text/plain": [
       "array(['vod', 'catchup', 'livestreaming'], dtype=object)"
      ]
     },
     "execution_count": 122,
     "metadata": {},
     "output_type": "execute_result"
    }
   ],
   "source": [
    "df['content_type'].unique()"
   ]
  },
  {
   "cell_type": "markdown",
   "metadata": {},
   "source": [
    "**yang pertama adalah layana VOD atau Video on demmand, kedua catchup atau siaran ulang, dan yang ketiga livestreaming, untuk masing kategori akan dibahas per segment nya."
   ]
  },
  {
   "cell_type": "code",
   "execution_count": 137,
   "metadata": {},
   "outputs": [
    {
     "data": {
      "text/plain": [
       "vod              468714\n",
       "livestreaming    271020\n",
       "catchup            2848\n",
       "Name: content_type, dtype: int64"
      ]
     },
     "execution_count": 137,
     "metadata": {},
     "output_type": "execute_result"
    }
   ],
   "source": [
    "df['content_type'].value_counts()"
   ]
  },
  {
   "cell_type": "code",
   "execution_count": 139,
   "metadata": {},
   "outputs": [
    {
     "data": {
      "image/png": "[encoded data removed]",
      "text/plain": [
       "<Figure size 648x432 with 1 Axes>"
      ]
     },
     "metadata": {
      "needs_background": "light"
     },
     "output_type": "display_data"
    }
   ],
   "source": [
    "plt.figure(figsize=(9,6))\n",
    "ax = sns.countplot((df['content_type']),order = df['content_type'].value_counts().index,palette=sns.color_palette('BuPu_r', n_colors=3))\n",
    "\n",
    "# Customize the axes and title\n",
    "ax.set_title(\"Perbandingan User\")\n",
    "ax.set_xlabel(\"Type\")\n",
    "ax.set_ylabel(\"Jumlah\")\n",
    "\n",
    "plt.show()"
   ]
  },
  {
   "cell_type": "markdown",
   "metadata": {},
   "source": [
    "### 1.3.3.1 Analysis pada Segmen VOD."
   ]
  },
  {
   "cell_type": "markdown",
   "metadata": {},
   "source": [
    "**Seperti yang diketahui VOD memiliki nilai tertinggi peminat dari masyarakat, lalu category dan judul apa sajakah yang menjadi minat para masyarakat?"
   ]
  },
  {
   "cell_type": "code",
   "execution_count": 140,
   "metadata": {},
   "outputs": [
    {
     "data": {
      "text/plain": [
       "array(['Movies', 'News', 'Music', 'Entertainment', 'Sports', 'Lifestyle',\n",
       "       'Vlog', 'TV Show', 'Korea', 'Kids', 'Funny', 'Horror', 'Education',\n",
       "       'Webtoon', 'Champions'], dtype=object)"
      ]
     },
     "execution_count": 140,
     "metadata": {},
     "output_type": "execute_result"
    }
   ],
   "source": [
    "df['category_name'].loc[df['content_type'] == 'vod'].unique()"
   ]
  },
  {
   "cell_type": "code",
   "execution_count": 145,
   "metadata": {},
   "outputs": [
    {
     "data": {
      "text/plain": [
       "Entertainment    152818\n",
       "News             147098\n",
       "Sports            53969\n",
       "Movies            39928\n",
       "TV Show           30181\n",
       "Name: category_name, dtype: int64"
      ]
     },
     "execution_count": 145,
     "metadata": {},
     "output_type": "execute_result"
    }
   ],
   "source": [
    "df['category_name'].loc[df['content_type'] == 'vod'].value_counts().nlargest(5)"
   ]
  },
  {
   "cell_type": "markdown",
   "metadata": {},
   "source": [
    "**Mengingat pada analisis sebelumnya pada Kategory segmen Other, merupakan bagian dari konten nya VOD, sehingga analisis akan hampir memiliki sama dengan segmen Other."
   ]
  },
  {
   "cell_type": "code",
   "execution_count": 150,
   "metadata": {},
   "outputs": [
    {
     "data": {
      "text/plain": [
       "array(['vod', 'catchup'], dtype=object)"
      ]
     },
     "execution_count": 150,
     "metadata": {},
     "output_type": "execute_result"
    }
   ],
   "source": [
    "df['content_type'].loc[df['stream_type'].isna() == True].unique()"
   ]
  },
  {
   "cell_type": "markdown",
   "metadata": {},
   "source": [
    "**Karena memang pada content Kategory Other ini adalah gabungan konten Type VOD dan catchup, dan mungkin analysis lanjutan akan dilakukan pada Konten Catchup."
   ]
  },
  {
   "cell_type": "markdown",
   "metadata": {},
   "source": [
    "### 1.3.3.2 Analysis pada Konten Livestreaming."
   ]
  },
  {
   "cell_type": "code",
   "execution_count": 158,
   "metadata": {},
   "outputs": [
    {
     "data": {
      "text/plain": [
       "array(['TvStream', 'EventStream'], dtype=object)"
      ]
     },
     "execution_count": 158,
     "metadata": {},
     "output_type": "execute_result"
    }
   ],
   "source": [
    "df['stream_type'].loc[df['content_type'] == 'livestreaming'].unique()"
   ]
  },
  {
   "cell_type": "markdown",
   "metadata": {},
   "source": [
    "**Pada konten type live streaming adalah merupakan gabungan dari TvStream dan EventStream, untuk analisis lebih mendetail akan dilakukan pada Bivariative analysis karena untuk single variable insight yang dapat diambil akan lebih condong ke arah hampir mirip pada kategori TvStream dan EventStream di atas."
   ]
  },
  {
   "cell_type": "markdown",
   "metadata": {},
   "source": [
    "### 1.3.3.3 Analysis pada Konten Catchup."
   ]
  },
  {
   "cell_type": "markdown",
   "metadata": {},
   "source": [
    "**Untuk kedua kategori diatas insight yang didapat akan hampir mirip dengan analisis pada segmen other, namun untuk kategori catchup mungkin kita bisa ambil sesuatu yang agak berbeda."
   ]
  },
  {
   "cell_type": "code",
   "execution_count": 163,
   "metadata": {},
   "outputs": [
    {
     "data": {
      "text/plain": [
       "array(['Vlog'], dtype=object)"
      ]
     },
     "execution_count": 163,
     "metadata": {},
     "output_type": "execute_result"
    }
   ],
   "source": [
    "df['category_name'].loc[df['content_type'] == 'catchup'].unique()"
   ]
  },
  {
   "cell_type": "code",
   "execution_count": 166,
   "metadata": {},
   "outputs": [
    {
     "data": {
      "text/plain": [
       "Samudra Cinta            387\n",
       "Anak Langit               98\n",
       "Masterchef Indonesia      93\n",
       "Tukang Ojek Pengkolan     86\n",
       "Cinta Karena Cinta        83\n",
       "Name: title, dtype: int64"
      ]
     },
     "execution_count": 166,
     "metadata": {},
     "output_type": "execute_result"
    }
   ],
   "source": [
    "df['title'].loc[df['content_type'] == 'catchup'].value_counts().nlargest(5)"
   ]
  },
  {
   "cell_type": "markdown",
   "metadata": {},
   "source": [
    "**Untuk konten catchup kebanyakan masyarakat indonesia menggemari acara siaran ulang pada sinetron Samudra Cinta, kemudian Anak langit, dan disusul program seperti masterchef, dsb."
   ]
  },
  {
   "cell_type": "code",
   "execution_count": 168,
   "metadata": {},
   "outputs": [
    {
     "data": {
      "image/png": "[encoded data removed]",
      "text/plain": [
       "<Figure size 1080x576 with 1 Axes>"
      ]
     },
     "metadata": {
      "needs_background": "light"
     },
     "output_type": "display_data"
    }
   ],
   "source": [
    "plt.figure(figsize=(15,8))\n",
    "ax = sns.barplot(x=df['title'].loc[df['content_type'] == 'catchup'].value_counts().nlargest(5),y=df['title'].loc[df['content_type'] == 'catchup'].value_counts().nlargest(5).index,palette=sns.color_palette('BuPu_r', n_colors=10) )\n",
    "ax.set_title(\"Top 5 Acara Siaran Ulang\")\n",
    "ax.set_xlabel(\"Jumlah\")\n",
    "plt.savefig('Top 5 Acara Siaran Ulang')\n",
    "plt.show()"
   ]
  },
  {
   "cell_type": "markdown",
   "metadata": {},
   "source": [
    "### Kesimpulan Insight Pada Univariate Analysis"
   ]
  },
  {
   "cell_type": "markdown",
   "metadata": {},
   "source": [
    "Pada Univariate Analisis dapat kita ambil kesimpulan, untuk pengguna kebanyakan memilih untuk tidak login karena untuk mengakses aplikasi / web Vidio kita bisa dengan mudah tinggal menikmati stream tanpa login sehingga banyak User yang hanya sekadar ingin nonton saja tanpa perlu melakukan pendaftaran, platform tertinggi yang banyak digunakan adalah pada web-android, kemudian untuk Type Stream segmen yang paling diminati adalah kategori Other, pada kategori ini, terdiri dari Movies', 'News', 'Music', 'Entertainment', 'Sports', dsb, dan masyarakat paling banyak minat pada kategori entertainment."
   ]
  },
  {
   "cell_type": "markdown",
   "metadata": {},
   "source": [
    "## 1.4 Bivariate Analysis"
   ]
  },
  {
   "cell_type": "markdown",
   "metadata": {},
   "source": [
    "**Pada Bivariate Analysis akan dilakukan analisis pada hubungan antar dua Variabel / Kolom untuk mendapatkan informasi yang diperlukan."
   ]
  },
  {
   "cell_type": "markdown",
   "metadata": {},
   "source": [
    "### 1.4.0 Analysis Pada Hubungan Play Duration"
   ]
  },
  {
   "cell_type": "code",
   "execution_count": 188,
   "metadata": {},
   "outputs": [
    {
     "data": {
      "text/html": [
       "<div>\n",
       "<style scoped>\n",
       "    .dataframe tbody tr th:only-of-type {\n",
       "        vertical-align: middle;\n",
       "    }\n",
       "\n",
       "    .dataframe tbody tr th {\n",
       "        vertical-align: top;\n",
       "    }\n",
       "\n",
       "    .dataframe thead th {\n",
       "        text-align: right;\n",
       "    }\n",
       "</style>\n",
       "<table border=\"1\" class=\"dataframe\">\n",
       "  <thead>\n",
       "    <tr style=\"text-align: right;\">\n",
       "      <th></th>\n",
       "      <th>is_login</th>\n",
       "      <th>playback_location</th>\n",
       "      <th>platform</th>\n",
       "      <th>play_time</th>\n",
       "      <th>end_time</th>\n",
       "      <th>referrer</th>\n",
       "      <th>average_bitrate</th>\n",
       "      <th>bitrate_range</th>\n",
       "      <th>total_bytes</th>\n",
       "      <th>buffer_duration</th>\n",
       "      <th>...</th>\n",
       "      <th>play_duration</th>\n",
       "      <th>content_type</th>\n",
       "      <th>stream_type</th>\n",
       "      <th>title</th>\n",
       "      <th>category_name</th>\n",
       "      <th>film_title</th>\n",
       "      <th>season_name</th>\n",
       "      <th>genre_name</th>\n",
       "      <th>hash_film_num</th>\n",
       "      <th>film_num</th>\n",
       "    </tr>\n",
       "  </thead>\n",
       "  <tbody>\n",
       "    <tr>\n",
       "      <th>77845</th>\n",
       "      <td>False</td>\n",
       "      <td>direct</td>\n",
       "      <td>tv-android</td>\n",
       "      <td>2020-02-13T13:54:45.000Z</td>\n",
       "      <td>2020-02-14T05:30:39.000Z</td>\n",
       "      <td>deeplink</td>\n",
       "      <td>300000.0</td>\n",
       "      <td>200-500</td>\n",
       "      <td>50653125000</td>\n",
       "      <td>0.0</td>\n",
       "      <td>...</td>\n",
       "      <td>135075</td>\n",
       "      <td>livestreaming</td>\n",
       "      <td>TvStream</td>\n",
       "      <td>Metro TV</td>\n",
       "      <td>NaN</td>\n",
       "      <td>NaN</td>\n",
       "      <td>NaN</td>\n",
       "      <td>NaN</td>\n",
       "      <td>668</td>\n",
       "      <td>665</td>\n",
       "    </tr>\n",
       "    <tr>\n",
       "      <th>621316</th>\n",
       "      <td>False</td>\n",
       "      <td>direct</td>\n",
       "      <td>tv-android</td>\n",
       "      <td>2020-02-02T07:13:24.000Z</td>\n",
       "      <td>2020-02-02T16:59:41.000Z</td>\n",
       "      <td>home</td>\n",
       "      <td>300000.0</td>\n",
       "      <td>200-500</td>\n",
       "      <td>45495000000</td>\n",
       "      <td>147536.0</td>\n",
       "      <td>...</td>\n",
       "      <td>121320</td>\n",
       "      <td>livestreaming</td>\n",
       "      <td>TvStream</td>\n",
       "      <td>TVOne</td>\n",
       "      <td>NaN</td>\n",
       "      <td>NaN</td>\n",
       "      <td>NaN</td>\n",
       "      <td>NaN</td>\n",
       "      <td>668</td>\n",
       "      <td>665</td>\n",
       "    </tr>\n",
       "    <tr>\n",
       "      <th>19144</th>\n",
       "      <td>False</td>\n",
       "      <td>direct</td>\n",
       "      <td>tv-android</td>\n",
       "      <td>2020-02-04T13:03:12.000Z</td>\n",
       "      <td>2020-02-05T16:59:00.000Z</td>\n",
       "      <td>home</td>\n",
       "      <td>300000.0</td>\n",
       "      <td>200-500</td>\n",
       "      <td>32366250000</td>\n",
       "      <td>28734.0</td>\n",
       "      <td>...</td>\n",
       "      <td>86310</td>\n",
       "      <td>livestreaming</td>\n",
       "      <td>TvStream</td>\n",
       "      <td>RCTI</td>\n",
       "      <td>NaN</td>\n",
       "      <td>NaN</td>\n",
       "      <td>NaN</td>\n",
       "      <td>NaN</td>\n",
       "      <td>668</td>\n",
       "      <td>665</td>\n",
       "    </tr>\n",
       "    <tr>\n",
       "      <th>474709</th>\n",
       "      <td>True</td>\n",
       "      <td>direct</td>\n",
       "      <td>tv-android</td>\n",
       "      <td>2020-02-08T12:34:47.000Z</td>\n",
       "      <td>2020-02-09T16:59:45.000Z</td>\n",
       "      <td>deeplink</td>\n",
       "      <td>300000.0</td>\n",
       "      <td>200-500</td>\n",
       "      <td>31758750000</td>\n",
       "      <td>0.0</td>\n",
       "      <td>...</td>\n",
       "      <td>84690</td>\n",
       "      <td>livestreaming</td>\n",
       "      <td>TvStream</td>\n",
       "      <td>Indosiar</td>\n",
       "      <td>NaN</td>\n",
       "      <td>NaN</td>\n",
       "      <td>NaN</td>\n",
       "      <td>NaN</td>\n",
       "      <td>668</td>\n",
       "      <td>665</td>\n",
       "    </tr>\n",
       "    <tr>\n",
       "      <th>413256</th>\n",
       "      <td>False</td>\n",
       "      <td>direct</td>\n",
       "      <td>tv-android</td>\n",
       "      <td>2020-02-08T12:20:20.000Z</td>\n",
       "      <td>2020-02-09T16:58:57.000Z</td>\n",
       "      <td>home</td>\n",
       "      <td>300000.0</td>\n",
       "      <td>200-500</td>\n",
       "      <td>31359375000</td>\n",
       "      <td>0.0</td>\n",
       "      <td>...</td>\n",
       "      <td>83625</td>\n",
       "      <td>livestreaming</td>\n",
       "      <td>TvStream</td>\n",
       "      <td>TVOne</td>\n",
       "      <td>NaN</td>\n",
       "      <td>NaN</td>\n",
       "      <td>NaN</td>\n",
       "      <td>NaN</td>\n",
       "      <td>668</td>\n",
       "      <td>665</td>\n",
       "    </tr>\n",
       "    <tr>\n",
       "      <th>130921</th>\n",
       "      <td>True</td>\n",
       "      <td>direct</td>\n",
       "      <td>tv-android</td>\n",
       "      <td>2020-02-13T15:35:05.000Z</td>\n",
       "      <td>2020-02-14T16:59:39.000Z</td>\n",
       "      <td>home</td>\n",
       "      <td>300000.0</td>\n",
       "      <td>200-500</td>\n",
       "      <td>30892500000</td>\n",
       "      <td>0.0</td>\n",
       "      <td>...</td>\n",
       "      <td>82380</td>\n",
       "      <td>livestreaming</td>\n",
       "      <td>TvStream</td>\n",
       "      <td>Trans7</td>\n",
       "      <td>NaN</td>\n",
       "      <td>NaN</td>\n",
       "      <td>NaN</td>\n",
       "      <td>NaN</td>\n",
       "      <td>668</td>\n",
       "      <td>665</td>\n",
       "    </tr>\n",
       "    <tr>\n",
       "      <th>433262</th>\n",
       "      <td>True</td>\n",
       "      <td>direct</td>\n",
       "      <td>app-android</td>\n",
       "      <td>2020-02-14T11:43:00.000Z</td>\n",
       "      <td>2020-02-15T16:59:46.000Z</td>\n",
       "      <td>deeplink</td>\n",
       "      <td>300000.0</td>\n",
       "      <td>200-500</td>\n",
       "      <td>30105000000</td>\n",
       "      <td>0.0</td>\n",
       "      <td>...</td>\n",
       "      <td>80280</td>\n",
       "      <td>livestreaming</td>\n",
       "      <td>TvStream</td>\n",
       "      <td>SCTV</td>\n",
       "      <td>NaN</td>\n",
       "      <td>NaN</td>\n",
       "      <td>NaN</td>\n",
       "      <td>NaN</td>\n",
       "      <td>668</td>\n",
       "      <td>665</td>\n",
       "    </tr>\n",
       "    <tr>\n",
       "      <th>150735</th>\n",
       "      <td>False</td>\n",
       "      <td>direct</td>\n",
       "      <td>tv-android</td>\n",
       "      <td>2020-02-10T15:47:08.000Z</td>\n",
       "      <td>2020-02-11T15:01:07.000Z</td>\n",
       "      <td>home</td>\n",
       "      <td>300000.0</td>\n",
       "      <td>200-500</td>\n",
       "      <td>29716875000</td>\n",
       "      <td>3168.0</td>\n",
       "      <td>...</td>\n",
       "      <td>79245</td>\n",
       "      <td>livestreaming</td>\n",
       "      <td>TvStream</td>\n",
       "      <td>RCTI</td>\n",
       "      <td>NaN</td>\n",
       "      <td>NaN</td>\n",
       "      <td>NaN</td>\n",
       "      <td>NaN</td>\n",
       "      <td>668</td>\n",
       "      <td>665</td>\n",
       "    </tr>\n",
       "    <tr>\n",
       "      <th>372172</th>\n",
       "      <td>False</td>\n",
       "      <td>direct</td>\n",
       "      <td>tv-android</td>\n",
       "      <td>2020-02-04T15:36:11.000Z</td>\n",
       "      <td>2020-02-05T16:56:44.000Z</td>\n",
       "      <td>deeplink</td>\n",
       "      <td>300000.0</td>\n",
       "      <td>200-500</td>\n",
       "      <td>29660625000</td>\n",
       "      <td>0.0</td>\n",
       "      <td>...</td>\n",
       "      <td>79095</td>\n",
       "      <td>livestreaming</td>\n",
       "      <td>TvStream</td>\n",
       "      <td>RCTI</td>\n",
       "      <td>NaN</td>\n",
       "      <td>NaN</td>\n",
       "      <td>NaN</td>\n",
       "      <td>NaN</td>\n",
       "      <td>668</td>\n",
       "      <td>665</td>\n",
       "    </tr>\n",
       "    <tr>\n",
       "      <th>433250</th>\n",
       "      <td>False</td>\n",
       "      <td>direct</td>\n",
       "      <td>web-desktop</td>\n",
       "      <td>2020-02-14T17:41:47.000Z</td>\n",
       "      <td>2020-02-15T16:59:59.000Z</td>\n",
       "      <td>https://www.vidio.com/live/6778-atp-tour-abn-q...</td>\n",
       "      <td>300000.0</td>\n",
       "      <td>200-500</td>\n",
       "      <td>29295000000</td>\n",
       "      <td>82.0</td>\n",
       "      <td>...</td>\n",
       "      <td>78120</td>\n",
       "      <td>livestreaming</td>\n",
       "      <td>TvStream</td>\n",
       "      <td>SCTV</td>\n",
       "      <td>NaN</td>\n",
       "      <td>NaN</td>\n",
       "      <td>NaN</td>\n",
       "      <td>NaN</td>\n",
       "      <td>668</td>\n",
       "      <td>665</td>\n",
       "    </tr>\n",
       "  </tbody>\n",
       "</table>\n",
       "<p>10 rows × 37 columns</p>\n",
       "</div>"
      ],
      "text/plain": [
       "        is_login playback_location     platform                 play_time  \\\n",
       "77845      False            direct   tv-android  2020-02-13T13:54:45.000Z   \n",
       "621316     False            direct   tv-android  2020-02-02T07:13:24.000Z   \n",
       "19144      False            direct   tv-android  2020-02-04T13:03:12.000Z   \n",
       "474709      True            direct   tv-android  2020-02-08T12:34:47.000Z   \n",
       "413256     False            direct   tv-android  2020-02-08T12:20:20.000Z   \n",
       "130921      True            direct   tv-android  2020-02-13T15:35:05.000Z   \n",
       "433262      True            direct  app-android  2020-02-14T11:43:00.000Z   \n",
       "150735     False            direct   tv-android  2020-02-10T15:47:08.000Z   \n",
       "372172     False            direct   tv-android  2020-02-04T15:36:11.000Z   \n",
       "433250     False            direct  web-desktop  2020-02-14T17:41:47.000Z   \n",
       "\n",
       "                        end_time  \\\n",
       "77845   2020-02-14T05:30:39.000Z   \n",
       "621316  2020-02-02T16:59:41.000Z   \n",
       "19144   2020-02-05T16:59:00.000Z   \n",
       "474709  2020-02-09T16:59:45.000Z   \n",
       "413256  2020-02-09T16:58:57.000Z   \n",
       "130921  2020-02-14T16:59:39.000Z   \n",
       "433262  2020-02-15T16:59:46.000Z   \n",
       "150735  2020-02-11T15:01:07.000Z   \n",
       "372172  2020-02-05T16:56:44.000Z   \n",
       "433250  2020-02-15T16:59:59.000Z   \n",
       "\n",
       "                                                 referrer  average_bitrate  \\\n",
       "77845                                            deeplink         300000.0   \n",
       "621316                                               home         300000.0   \n",
       "19144                                                home         300000.0   \n",
       "474709                                           deeplink         300000.0   \n",
       "413256                                               home         300000.0   \n",
       "130921                                               home         300000.0   \n",
       "433262                                           deeplink         300000.0   \n",
       "150735                                               home         300000.0   \n",
       "372172                                           deeplink         300000.0   \n",
       "433250  https://www.vidio.com/live/6778-atp-tour-abn-q...         300000.0   \n",
       "\n",
       "       bitrate_range  total_bytes  buffer_duration  ... play_duration  \\\n",
       "77845        200-500  50653125000              0.0  ...        135075   \n",
       "621316       200-500  45495000000         147536.0  ...        121320   \n",
       "19144        200-500  32366250000          28734.0  ...         86310   \n",
       "474709       200-500  31758750000              0.0  ...         84690   \n",
       "413256       200-500  31359375000              0.0  ...         83625   \n",
       "130921       200-500  30892500000              0.0  ...         82380   \n",
       "433262       200-500  30105000000              0.0  ...         80280   \n",
       "150735       200-500  29716875000           3168.0  ...         79245   \n",
       "372172       200-500  29660625000              0.0  ...         79095   \n",
       "433250       200-500  29295000000             82.0  ...         78120   \n",
       "\n",
       "         content_type stream_type     title category_name film_title  \\\n",
       "77845   livestreaming    TvStream  Metro TV           NaN        NaN   \n",
       "621316  livestreaming    TvStream     TVOne           NaN        NaN   \n",
       "19144   livestreaming    TvStream      RCTI           NaN        NaN   \n",
       "474709  livestreaming    TvStream  Indosiar           NaN        NaN   \n",
       "413256  livestreaming    TvStream     TVOne           NaN        NaN   \n",
       "130921  livestreaming    TvStream    Trans7           NaN        NaN   \n",
       "433262  livestreaming    TvStream      SCTV           NaN        NaN   \n",
       "150735  livestreaming    TvStream      RCTI           NaN        NaN   \n",
       "372172  livestreaming    TvStream      RCTI           NaN        NaN   \n",
       "433250  livestreaming    TvStream      SCTV           NaN        NaN   \n",
       "\n",
       "        season_name genre_name hash_film_num film_num  \n",
       "77845           NaN        NaN           668      665  \n",
       "621316          NaN        NaN           668      665  \n",
       "19144           NaN        NaN           668      665  \n",
       "474709          NaN        NaN           668      665  \n",
       "413256          NaN        NaN           668      665  \n",
       "130921          NaN        NaN           668      665  \n",
       "433262          NaN        NaN           668      665  \n",
       "150735          NaN        NaN           668      665  \n",
       "372172          NaN        NaN           668      665  \n",
       "433250          NaN        NaN           668      665  \n",
       "\n",
       "[10 rows x 37 columns]"
      ]
     },
     "execution_count": 188,
     "metadata": {},
     "output_type": "execute_result"
    }
   ],
   "source": [
    "df.nlargest(10, ['play_duration'])"
   ]
  },
  {
   "cell_type": "markdown",
   "metadata": {},
   "source": [
    "** Pada Tabel diatas adalah Urutan dari Top User berdasarkan Play_duration, kita bisa mengambil informasi berdasarkan relasi dengan tabel tabel yang berkaitan."
   ]
  },
  {
   "cell_type": "markdown",
   "metadata": {},
   "source": [
    "### 1.4.0.1 Analysis Pada Play Duration vs Category."
   ]
  },
  {
   "cell_type": "code",
   "execution_count": 179,
   "metadata": {},
   "outputs": [
    {
     "data": {
      "text/plain": [
       "category_name\n",
       "TV Show          1605.376164\n",
       "Movies            958.028902\n",
       "Music             544.927146\n",
       "Vlog              543.540281\n",
       "Webtoon           500.693548\n",
       "Kids              323.440870\n",
       "Korea             301.039741\n",
       "Horror            128.774194\n",
       "Champions          95.937888\n",
       "Entertainment      57.241909\n",
       "Name: play_duration, dtype: float64"
      ]
     },
     "execution_count": 179,
     "metadata": {},
     "output_type": "execute_result"
    }
   ],
   "source": [
    "df.groupby(['category_name'])['play_duration'].mean().sort_values(ascending=False).nlargest(10)"
   ]
  },
  {
   "cell_type": "code",
   "execution_count": 180,
   "metadata": {},
   "outputs": [
    {
     "data": {
      "image/png": "[encoded data removed]",
      "text/plain": [
       "<Figure size 1080x576 with 1 Axes>"
      ]
     },
     "metadata": {
      "needs_background": "light"
     },
     "output_type": "display_data"
    }
   ],
   "source": [
    "plt.figure(figsize=(15,8))\n",
    "ax = sns.barplot(y=df.groupby(['category_name'])['play_duration'].mean().sort_values(ascending=False).nlargest(10),x=df.groupby(['category_name'])['play_duration'].mean().sort_values(ascending=False).nlargest(10).index,palette=sns.color_palette('BuPu_r', n_colors=10) )\n",
    "ax.set_title(\"Top 5 Acara Siaran Ulang\")\n",
    "ax.set_xlabel(\"Kategori\")\n",
    "ax.set_ylabel(\"Durasi\")\n",
    "plt.savefig('Top 5 Acara Siaran Ulang')\n",
    "plt.show()"
   ]
  },
  {
   "cell_type": "markdown",
   "metadata": {},
   "source": [
    "** Disini dapat diketahui bahwa TV Show memiliki rata rata jumlah penonton terlama dari semua kategori."
   ]
  },
  {
   "cell_type": "markdown",
   "metadata": {},
   "source": [
    "### 1.4.0.2 Analysis Pada Play Duration vs Title."
   ]
  },
  {
   "cell_type": "code",
   "execution_count": 247,
   "metadata": {},
   "outputs": [
    {
     "data": {
      "text/html": [
       "<div>\n",
       "<style scoped>\n",
       "    .dataframe tbody tr th:only-of-type {\n",
       "        vertical-align: middle;\n",
       "    }\n",
       "\n",
       "    .dataframe tbody tr th {\n",
       "        vertical-align: top;\n",
       "    }\n",
       "\n",
       "    .dataframe thead th {\n",
       "        text-align: right;\n",
       "    }\n",
       "</style>\n",
       "<table border=\"1\" class=\"dataframe\">\n",
       "  <thead>\n",
       "    <tr style=\"text-align: right;\">\n",
       "      <th></th>\n",
       "      <th>stream_type</th>\n",
       "      <th>title</th>\n",
       "      <th>play_duration</th>\n",
       "    </tr>\n",
       "  </thead>\n",
       "  <tbody>\n",
       "    <tr>\n",
       "      <th>77845</th>\n",
       "      <td>TvStream</td>\n",
       "      <td>Metro TV</td>\n",
       "      <td>135075</td>\n",
       "    </tr>\n",
       "    <tr>\n",
       "      <th>621316</th>\n",
       "      <td>TvStream</td>\n",
       "      <td>TVOne</td>\n",
       "      <td>121320</td>\n",
       "    </tr>\n",
       "    <tr>\n",
       "      <th>19144</th>\n",
       "      <td>TvStream</td>\n",
       "      <td>RCTI</td>\n",
       "      <td>86310</td>\n",
       "    </tr>\n",
       "    <tr>\n",
       "      <th>474709</th>\n",
       "      <td>TvStream</td>\n",
       "      <td>Indosiar</td>\n",
       "      <td>84690</td>\n",
       "    </tr>\n",
       "    <tr>\n",
       "      <th>413256</th>\n",
       "      <td>TvStream</td>\n",
       "      <td>TVOne</td>\n",
       "      <td>83625</td>\n",
       "    </tr>\n",
       "    <tr>\n",
       "      <th>130921</th>\n",
       "      <td>TvStream</td>\n",
       "      <td>Trans7</td>\n",
       "      <td>82380</td>\n",
       "    </tr>\n",
       "    <tr>\n",
       "      <th>433262</th>\n",
       "      <td>TvStream</td>\n",
       "      <td>SCTV</td>\n",
       "      <td>80280</td>\n",
       "    </tr>\n",
       "    <tr>\n",
       "      <th>150735</th>\n",
       "      <td>TvStream</td>\n",
       "      <td>RCTI</td>\n",
       "      <td>79245</td>\n",
       "    </tr>\n",
       "    <tr>\n",
       "      <th>372172</th>\n",
       "      <td>TvStream</td>\n",
       "      <td>RCTI</td>\n",
       "      <td>79095</td>\n",
       "    </tr>\n",
       "  </tbody>\n",
       "</table>\n",
       "</div>"
      ],
      "text/plain": [
       "       stream_type     title  play_duration\n",
       "77845     TvStream  Metro TV         135075\n",
       "621316    TvStream     TVOne         121320\n",
       "19144     TvStream      RCTI          86310\n",
       "474709    TvStream  Indosiar          84690\n",
       "413256    TvStream     TVOne          83625\n",
       "130921    TvStream    Trans7          82380\n",
       "433262    TvStream      SCTV          80280\n",
       "150735    TvStream      RCTI          79245\n",
       "372172    TvStream      RCTI          79095"
      ]
     },
     "execution_count": 247,
     "metadata": {},
     "output_type": "execute_result"
    }
   ],
   "source": [
    "df[['stream_type','title','play_duration']].sort_values('play_duration',ascending=False).iloc[0:9]"
   ]
  },
  {
   "cell_type": "markdown",
   "metadata": {},
   "source": [
    "**Kita dapat ketahui juga dari Top 10 tersebut semuanya adalah TvStream."
   ]
  },
  {
   "cell_type": "code",
   "execution_count": 242,
   "metadata": {},
   "outputs": [
    {
     "data": {
      "text/plain": [
       "title\n",
       "SCTV        41331330\n",
       "Indosiar    37938060\n",
       "RCTI        29596740\n",
       "TRANS TV    22805400\n",
       "Trans7      16168110\n",
       "GTV          9645315\n",
       "TVOne        7772085\n",
       "ANTV         7415595\n",
       "MNC          7404135\n",
       "NET TV       5010750\n",
       "Name: play_duration, dtype: int64"
      ]
     },
     "execution_count": 242,
     "metadata": {},
     "output_type": "execute_result"
    }
   ],
   "source": [
    "df.groupby(['title'])['play_duration'].sum().sort_values(ascending=False).nlargest(10)"
   ]
  },
  {
   "cell_type": "markdown",
   "metadata": {},
   "source": [
    "**Untuk Total Durasi pemirsa SCTV mendapatkan peringkat pertama, disusul dengan Indosiar, dan RCTI."
   ]
  },
  {
   "cell_type": "code",
   "execution_count": 248,
   "metadata": {},
   "outputs": [
    {
     "data": {
      "image/png": "[encoded data removed]",
      "text/plain": [
       "<Figure size 1080x576 with 1 Axes>"
      ]
     },
     "metadata": {
      "needs_background": "light"
     },
     "output_type": "display_data"
    }
   ],
   "source": [
    "plt.figure(figsize=(15,8))\n",
    "ax = sns.barplot(y=df.groupby(['title'])['play_duration'].sum().sort_values(ascending=False).nlargest(10),x=df.groupby(['title'])['play_duration'].sum().sort_values(ascending=False).nlargest(10).index,palette=sns.color_palette('BuPu_r', n_colors=10) )\n",
    "ax.set_title(\"Top 5 Channel\")\n",
    "ax.set_xlabel(\"Kategori\")\n",
    "ax.set_ylabel(\"Durasi\")\n",
    "plt.savefig('Top 5 Channel')\n",
    "plt.show()"
   ]
  },
  {
   "cell_type": "markdown",
   "metadata": {},
   "source": [
    "### 1.4.1 Analysis Pada Hubungan Platform."
   ]
  },
  {
   "cell_type": "markdown",
   "metadata": {},
   "source": [
    "### 1.4.1.1 Analysis Pada Hubungan Platform vs Login."
   ]
  },
  {
   "cell_type": "code",
   "execution_count": 251,
   "metadata": {},
   "outputs": [
    {
     "data": {
      "image/png": "[encoded data removed]",
      "text/plain": [
       "<Figure size 781.25x720 with 1 Axes>"
      ]
     },
     "metadata": {
      "needs_background": "light"
     },
     "output_type": "display_data"
    }
   ],
   "source": [
    "sns.catplot(x=\"platform\", hue=\"is_login\", \n",
    "                 data=df, kind=\"count\",\n",
    "                 height=10,palette=sns.color_palette('BuPu_r', n_colors=2));"
   ]
  },
  {
   "cell_type": "markdown",
   "metadata": {},
   "source": [
    "** Dapat kita ketahui bahwa pada platform web baik mobile maupun desktop lebih banyak pengguna yang tidak login, kemudian pada platform applikasi untuk android dan ios pengguna yang login lebih banyak daripada yang tidak login, dan sisanya pada smart TV pada android lebih banyak yang tidak login."
   ]
  },
  {
   "cell_type": "markdown",
   "metadata": {},
   "source": [
    "### 1.4.1.2 Analysis Pada Hubungan Platform vs Buffer Duration."
   ]
  },
  {
   "cell_type": "code",
   "execution_count": 254,
   "metadata": {},
   "outputs": [
    {
     "data": {
      "text/plain": [
       "platform\n",
       "tv-android     6679.889123\n",
       "app-ios         169.535851\n",
       "app-android      85.596960\n",
       "web-desktop      48.351361\n",
       "web-mobile       11.467392\n",
       "tv-tizen          7.573373\n",
       "tv-webos          0.098459\n",
       "Name: buffer_duration, dtype: float64"
      ]
     },
     "execution_count": 254,
     "metadata": {},
     "output_type": "execute_result"
    }
   ],
   "source": [
    "df.groupby(['platform'])['buffer_duration'].mean().sort_values(ascending=False).nlargest(10)"
   ]
  },
  {
   "cell_type": "code",
   "execution_count": 275,
   "metadata": {},
   "outputs": [
    {
     "data": {
      "image/png": "[encoded data removed]",
      "text/plain": [
       "<Figure size 1080x576 with 1 Axes>"
      ]
     },
     "metadata": {
      "needs_background": "light"
     },
     "output_type": "display_data"
    }
   ],
   "source": [
    "plt.figure(figsize=(15,8))\n",
    "ax = sns.barplot(y=df.groupby(['platform'])['buffer_duration'].mean().sort_values(ascending=False).nlargest(10),x=df.groupby(['platform'])['buffer_duration'].mean().sort_values(ascending=False).nlargest(10).index,palette=sns.color_palette('BuPu_r', n_colors=10) )\n",
    "ax.set_title(\"Buffer Timer Berdasar Platform\")\n",
    "ax.set_xlabel(\"Platform\")\n",
    "ax.set_ylabel(\"Durasi\")\n",
    "plt.show()"
   ]
  },
  {
   "cell_type": "markdown",
   "metadata": {},
   "source": [
    "**Disini dapat diketahui bahwa pengguna TV android mengalami buffer duration terlama untuk rata rata, disusul dengan app-ios, dan app-android, web ada pada tengah tengah, namun apabila kita jumlahkan rata rata berdasarkan platform tanpa memandang operating system maka kita dapatkan, sebagai berikut :"
   ]
  },
  {
   "cell_type": "code",
   "execution_count": 269,
   "metadata": {},
   "outputs": [],
   "source": [
    "platform = df.groupby(['platform'])['buffer_duration'].mean().sort_values(ascending=False).nlargest(10)\n",
    "arrVal = []\n",
    "arrIdx = ['TV','Web','App']\n",
    "tv = app = web = 0\n",
    "for i,idx in enumerate(platform.index):\n",
    "    #print(idx.split('-')[0])\n",
    "    if idx.split('-')[0] == 'tv':\n",
    "        tv+=platform[i]\n",
    "    elif idx.split('-')[0] == 'web':\n",
    "        web+=platform[i]\n",
    "    elif idx.split('-')[0] == 'app':\n",
    "        app+=platform[i]\n",
    "        \n",
    "arrVal.append(tv)\n",
    "arrVal.append(web)\n",
    "arrVal.append(app)"
   ]
  },
  {
   "cell_type": "code",
   "execution_count": 270,
   "metadata": {},
   "outputs": [],
   "source": [
    "df_platform = pd.DataFrame(list(zip(arrIdx, arrVal)), columns =['Platform', 'Jumlah'])"
   ]
  },
  {
   "cell_type": "code",
   "execution_count": 273,
   "metadata": {},
   "outputs": [
    {
     "data": {
      "text/html": [
       "<div>\n",
       "<style scoped>\n",
       "    .dataframe tbody tr th:only-of-type {\n",
       "        vertical-align: middle;\n",
       "    }\n",
       "\n",
       "    .dataframe tbody tr th {\n",
       "        vertical-align: top;\n",
       "    }\n",
       "\n",
       "    .dataframe thead th {\n",
       "        text-align: right;\n",
       "    }\n",
       "</style>\n",
       "<table border=\"1\" class=\"dataframe\">\n",
       "  <thead>\n",
       "    <tr style=\"text-align: right;\">\n",
       "      <th></th>\n",
       "      <th>Platform</th>\n",
       "      <th>Jumlah</th>\n",
       "    </tr>\n",
       "  </thead>\n",
       "  <tbody>\n",
       "    <tr>\n",
       "      <th>1</th>\n",
       "      <td>Web</td>\n",
       "      <td>59.818753</td>\n",
       "    </tr>\n",
       "    <tr>\n",
       "      <th>2</th>\n",
       "      <td>App</td>\n",
       "      <td>255.132811</td>\n",
       "    </tr>\n",
       "    <tr>\n",
       "      <th>0</th>\n",
       "      <td>TV</td>\n",
       "      <td>6687.560954</td>\n",
       "    </tr>\n",
       "  </tbody>\n",
       "</table>\n",
       "</div>"
      ],
      "text/plain": [
       "  Platform       Jumlah\n",
       "1      Web    59.818753\n",
       "2      App   255.132811\n",
       "0       TV  6687.560954"
      ]
     },
     "execution_count": 273,
     "metadata": {},
     "output_type": "execute_result"
    }
   ],
   "source": [
    "df_platform.sort_values('Jumlah',ascending=True)"
   ]
  },
  {
   "cell_type": "markdown",
   "metadata": {},
   "source": [
    "**Disini Dapat diketahui bahwa web memiliki Buffer time terendah itulah mungkinsalah satu alasan mengapa banyak user menggunakan web daripada platform app / TV."
   ]
  },
  {
   "cell_type": "code",
   "execution_count": 289,
   "metadata": {},
   "outputs": [
    {
     "data": {
      "image/png": "[encoded data removed]",
      "text/plain": [
       "<Figure size 720x288 with 1 Axes>"
      ]
     },
     "metadata": {
      "needs_background": "light"
     },
     "output_type": "display_data"
    }
   ],
   "source": [
    "plt.figure(figsize=(10,4))\n",
    "ax = sns.barplot(y=df_platform['Jumlah'],x=df_platform['Platform'],palette=sns.color_palette('BuPu_r', n_colors=10) )\n",
    "ax.set_title(\"Buffer Timer Berdasar Platform\")\n",
    "ax.set_xlabel(\"Platform\")\n",
    "ax.set_ylabel(\"Durasi\")\n",
    "plt.show()"
   ]
  },
  {
   "cell_type": "markdown",
   "metadata": {},
   "source": [
    "**Terlihat bahwa Total durasi pada web memiliki buffer time terendah."
   ]
  },
  {
   "cell_type": "markdown",
   "metadata": {},
   "source": [
    "### 1.4.1.2 Analysis Pada Hubungan Platform vs Iklan."
   ]
  },
  {
   "cell_type": "code",
   "execution_count": 296,
   "metadata": {},
   "outputs": [
    {
     "data": {
      "image/png": "[encoded data removed]",
      "text/plain": [
       "<Figure size 781.25x720 with 1 Axes>"
      ]
     },
     "metadata": {
      "needs_background": "light"
     },
     "output_type": "display_data"
    }
   ],
   "source": [
    "sns.catplot(x=\"platform\", hue=\"has_ad\", \n",
    "                 data=df, kind=\"count\",\n",
    "                 height=10,palette=sns.color_palette('BuPu_r', n_colors=2));"
   ]
  },
  {
   "cell_type": "markdown",
   "metadata": {},
   "source": [
    "**Iklan terbanyak terdapat pada web platform baik mobile maupun desktop, sedangkan posisi kedua ada pada aplikasi mobile baik ios maupun android, pada platform TV tidak ada iklan sama sekali."
   ]
  },
  {
   "cell_type": "markdown",
   "metadata": {},
   "source": [
    "### 1.4.1.2 Analysis Pada Hubungan Platform vs Premium."
   ]
  },
  {
   "cell_type": "code",
   "execution_count": 295,
   "metadata": {},
   "outputs": [
    {
     "data": {
      "image/png": "[encoded data removed]",
      "text/plain": [
       "<Figure size 785.875x720 with 1 Axes>"
      ]
     },
     "metadata": {
      "needs_background": "light"
     },
     "output_type": "display_data"
    }
   ],
   "source": [
    "sns.catplot(x=\"platform\", hue=\"is_premium\", \n",
    "                 data=df, kind=\"count\",\n",
    "                 height=10,palette=sns.color_palette('BuPu_r', n_colors=2));"
   ]
  },
  {
   "cell_type": "markdown",
   "metadata": {},
   "source": [
    "**Dari keseluruhan Platform diketahui bahwa mayoritas pengguna disetiap platform tidak berlangganan premium."
   ]
  },
  {
   "cell_type": "markdown",
   "metadata": {},
   "source": [
    "### 1.4.1.2 Analysis Pada Hubungan Platform vs Playback Location."
   ]
  },
  {
   "cell_type": "code",
   "execution_count": 297,
   "metadata": {},
   "outputs": [
    {
     "data": {
      "image/png": "[encoded data removed]",
      "text/plain": [
       "<Figure size 817.375x720 with 1 Axes>"
      ]
     },
     "metadata": {
      "needs_background": "light"
     },
     "output_type": "display_data"
    }
   ],
   "source": [
    "sns.catplot(x=\"platform\", hue=\"playback_location\", \n",
    "                 data=df, kind=\"count\",\n",
    "                 height=10,palette=sns.color_palette('BuPu_r', n_colors=2));"
   ]
  },
  {
   "cell_type": "markdown",
   "metadata": {},
   "source": [
    "**Dari grafik ini dapat diketahui bahwa hanya pada platform mobile saja yang memiliki embed player, untuk platform direct ada pada mobile app dan TV, mungkin untuk performa embed yang lebih lancar sehingga banyak user menggunakan web dari pada platform lain."
   ]
  },
  {
   "cell_type": "markdown",
   "metadata": {},
   "source": [
    "### Kesimpulan Insight Pada bivariate Analysis"
   ]
  },
  {
   "cell_type": "markdown",
   "metadata": {},
   "source": [
    "Pada analisis multivariate atau 2 variable, kita dapat mengetahui hubungan tiap top pengguna berdasarkan play_duration dengan beberapa variabel antara lain Category dan Title, kemudian analisis pada masing masing platform diketahui bahwa user pada web memiliki buffer terkecil diantara platform yang lain mungkin ini yang menjadi alasan banyak pengguna pada web daripada platform lain."
   ]
  },
  {
   "cell_type": "markdown",
   "metadata": {},
   "source": [
    "# 2. Cluster User Berdasarkan Category Tontonan."
   ]
  },
  {
   "cell_type": "code",
   "execution_count": 308,
   "metadata": {},
   "outputs": [],
   "source": [
    "from sklearn.cluster import k_means"
   ]
  },
  {
   "cell_type": "code",
   "execution_count": 309,
   "metadata": {},
   "outputs": [
    {
     "data": {
      "text/plain": [
       "Index(['is_login', 'playback_location', 'platform', 'play_time', 'end_time',\n",
       "       'referrer', 'average_bitrate', 'bitrate_range', 'total_bytes',\n",
       "       'buffer_duration', 'referrer_group', 'completed', 'utm_source',\n",
       "       'utm_medium', 'utm_campaign', 'player_name', 'has_ad', 'flash_version',\n",
       "       'os_name', 'os_version', 'browser_name', 'browser_version', 'app_name',\n",
       "       'autoplay', 'is_premium', 'app_version', 'city', 'play_duration',\n",
       "       'content_type', 'stream_type', 'title', 'category_name', 'film_title',\n",
       "       'season_name', 'genre_name', 'hash_film_num', 'film_num'],\n",
       "      dtype='object')"
      ]
     },
     "execution_count": 309,
     "metadata": {},
     "output_type": "execute_result"
    }
   ],
   "source": [
    "df.columns"
   ]
  },
  {
   "cell_type": "code",
   "execution_count": 310,
   "metadata": {},
   "outputs": [],
   "source": [
    "category_col = pd.get_dummies(df[['category_name']], prefix=\"\", prefix_sep=\"\")\n",
    "columns = category_col.columns"
   ]
  },
  {
   "cell_type": "code",
   "execution_count": 312,
   "metadata": {},
   "outputs": [],
   "source": [
    "category_col['Platform'] = df['platform']\n",
    "fixed_columns = [\"Platform\"] + list(columns)\n",
    "category_col = category_col[fixed_columns]"
   ]
  },
  {
   "cell_type": "code",
   "execution_count": 316,
   "metadata": {},
   "outputs": [
    {
     "data": {
      "text/html": [
       "<div>\n",
       "<style scoped>\n",
       "    .dataframe tbody tr th:only-of-type {\n",
       "        vertical-align: middle;\n",
       "    }\n",
       "\n",
       "    .dataframe tbody tr th {\n",
       "        vertical-align: top;\n",
       "    }\n",
       "\n",
       "    .dataframe thead th {\n",
       "        text-align: right;\n",
       "    }\n",
       "</style>\n",
       "<table border=\"1\" class=\"dataframe\">\n",
       "  <thead>\n",
       "    <tr style=\"text-align: right;\">\n",
       "      <th></th>\n",
       "      <th>Platform</th>\n",
       "      <th>Champions</th>\n",
       "      <th>Education</th>\n",
       "      <th>Entertainment</th>\n",
       "      <th>Funny</th>\n",
       "      <th>Horror</th>\n",
       "      <th>Kids</th>\n",
       "      <th>Korea</th>\n",
       "      <th>Lifestyle</th>\n",
       "      <th>Movies</th>\n",
       "      <th>Music</th>\n",
       "      <th>News</th>\n",
       "      <th>Sports</th>\n",
       "      <th>TV Show</th>\n",
       "      <th>Vlog</th>\n",
       "      <th>Webtoon</th>\n",
       "    </tr>\n",
       "  </thead>\n",
       "  <tbody>\n",
       "    <tr>\n",
       "      <th>0</th>\n",
       "      <td>tv-android</td>\n",
       "      <td>0</td>\n",
       "      <td>0</td>\n",
       "      <td>0</td>\n",
       "      <td>0</td>\n",
       "      <td>0</td>\n",
       "      <td>0</td>\n",
       "      <td>0</td>\n",
       "      <td>0</td>\n",
       "      <td>1</td>\n",
       "      <td>0</td>\n",
       "      <td>0</td>\n",
       "      <td>0</td>\n",
       "      <td>0</td>\n",
       "      <td>0</td>\n",
       "      <td>0</td>\n",
       "    </tr>\n",
       "    <tr>\n",
       "      <th>1</th>\n",
       "      <td>web-mobile</td>\n",
       "      <td>0</td>\n",
       "      <td>0</td>\n",
       "      <td>0</td>\n",
       "      <td>0</td>\n",
       "      <td>0</td>\n",
       "      <td>0</td>\n",
       "      <td>0</td>\n",
       "      <td>0</td>\n",
       "      <td>0</td>\n",
       "      <td>0</td>\n",
       "      <td>1</td>\n",
       "      <td>0</td>\n",
       "      <td>0</td>\n",
       "      <td>0</td>\n",
       "      <td>0</td>\n",
       "    </tr>\n",
       "    <tr>\n",
       "      <th>2</th>\n",
       "      <td>web-mobile</td>\n",
       "      <td>0</td>\n",
       "      <td>0</td>\n",
       "      <td>0</td>\n",
       "      <td>0</td>\n",
       "      <td>0</td>\n",
       "      <td>0</td>\n",
       "      <td>0</td>\n",
       "      <td>0</td>\n",
       "      <td>0</td>\n",
       "      <td>0</td>\n",
       "      <td>1</td>\n",
       "      <td>0</td>\n",
       "      <td>0</td>\n",
       "      <td>0</td>\n",
       "      <td>0</td>\n",
       "    </tr>\n",
       "    <tr>\n",
       "      <th>3</th>\n",
       "      <td>web-mobile</td>\n",
       "      <td>0</td>\n",
       "      <td>0</td>\n",
       "      <td>0</td>\n",
       "      <td>0</td>\n",
       "      <td>0</td>\n",
       "      <td>0</td>\n",
       "      <td>0</td>\n",
       "      <td>0</td>\n",
       "      <td>0</td>\n",
       "      <td>0</td>\n",
       "      <td>1</td>\n",
       "      <td>0</td>\n",
       "      <td>0</td>\n",
       "      <td>0</td>\n",
       "      <td>0</td>\n",
       "    </tr>\n",
       "    <tr>\n",
       "      <th>4</th>\n",
       "      <td>web-mobile</td>\n",
       "      <td>0</td>\n",
       "      <td>0</td>\n",
       "      <td>0</td>\n",
       "      <td>0</td>\n",
       "      <td>0</td>\n",
       "      <td>0</td>\n",
       "      <td>0</td>\n",
       "      <td>0</td>\n",
       "      <td>0</td>\n",
       "      <td>0</td>\n",
       "      <td>1</td>\n",
       "      <td>0</td>\n",
       "      <td>0</td>\n",
       "      <td>0</td>\n",
       "      <td>0</td>\n",
       "    </tr>\n",
       "    <tr>\n",
       "      <th>5</th>\n",
       "      <td>web-mobile</td>\n",
       "      <td>0</td>\n",
       "      <td>0</td>\n",
       "      <td>0</td>\n",
       "      <td>0</td>\n",
       "      <td>0</td>\n",
       "      <td>0</td>\n",
       "      <td>0</td>\n",
       "      <td>0</td>\n",
       "      <td>0</td>\n",
       "      <td>0</td>\n",
       "      <td>1</td>\n",
       "      <td>0</td>\n",
       "      <td>0</td>\n",
       "      <td>0</td>\n",
       "      <td>0</td>\n",
       "    </tr>\n",
       "    <tr>\n",
       "      <th>6</th>\n",
       "      <td>tv-android</td>\n",
       "      <td>0</td>\n",
       "      <td>0</td>\n",
       "      <td>0</td>\n",
       "      <td>0</td>\n",
       "      <td>0</td>\n",
       "      <td>0</td>\n",
       "      <td>0</td>\n",
       "      <td>0</td>\n",
       "      <td>0</td>\n",
       "      <td>1</td>\n",
       "      <td>0</td>\n",
       "      <td>0</td>\n",
       "      <td>0</td>\n",
       "      <td>0</td>\n",
       "      <td>0</td>\n",
       "    </tr>\n",
       "    <tr>\n",
       "      <th>7</th>\n",
       "      <td>app-android</td>\n",
       "      <td>0</td>\n",
       "      <td>0</td>\n",
       "      <td>0</td>\n",
       "      <td>0</td>\n",
       "      <td>0</td>\n",
       "      <td>0</td>\n",
       "      <td>0</td>\n",
       "      <td>0</td>\n",
       "      <td>1</td>\n",
       "      <td>0</td>\n",
       "      <td>0</td>\n",
       "      <td>0</td>\n",
       "      <td>0</td>\n",
       "      <td>0</td>\n",
       "      <td>0</td>\n",
       "    </tr>\n",
       "    <tr>\n",
       "      <th>8</th>\n",
       "      <td>app-android</td>\n",
       "      <td>0</td>\n",
       "      <td>0</td>\n",
       "      <td>0</td>\n",
       "      <td>0</td>\n",
       "      <td>0</td>\n",
       "      <td>0</td>\n",
       "      <td>0</td>\n",
       "      <td>0</td>\n",
       "      <td>1</td>\n",
       "      <td>0</td>\n",
       "      <td>0</td>\n",
       "      <td>0</td>\n",
       "      <td>0</td>\n",
       "      <td>0</td>\n",
       "      <td>0</td>\n",
       "    </tr>\n",
       "    <tr>\n",
       "      <th>9</th>\n",
       "      <td>web-desktop</td>\n",
       "      <td>0</td>\n",
       "      <td>0</td>\n",
       "      <td>1</td>\n",
       "      <td>0</td>\n",
       "      <td>0</td>\n",
       "      <td>0</td>\n",
       "      <td>0</td>\n",
       "      <td>0</td>\n",
       "      <td>0</td>\n",
       "      <td>0</td>\n",
       "      <td>0</td>\n",
       "      <td>0</td>\n",
       "      <td>0</td>\n",
       "      <td>0</td>\n",
       "      <td>0</td>\n",
       "    </tr>\n",
       "  </tbody>\n",
       "</table>\n",
       "</div>"
      ],
      "text/plain": [
       "      Platform  Champions  Education  Entertainment  Funny  Horror  Kids  \\\n",
       "0   tv-android          0          0              0      0       0     0   \n",
       "1   web-mobile          0          0              0      0       0     0   \n",
       "2   web-mobile          0          0              0      0       0     0   \n",
       "3   web-mobile          0          0              0      0       0     0   \n",
       "4   web-mobile          0          0              0      0       0     0   \n",
       "5   web-mobile          0          0              0      0       0     0   \n",
       "6   tv-android          0          0              0      0       0     0   \n",
       "7  app-android          0          0              0      0       0     0   \n",
       "8  app-android          0          0              0      0       0     0   \n",
       "9  web-desktop          0          0              1      0       0     0   \n",
       "\n",
       "   Korea  Lifestyle  Movies  Music  News  Sports  TV Show  Vlog  Webtoon  \n",
       "0      0          0       1      0     0       0        0     0        0  \n",
       "1      0          0       0      0     1       0        0     0        0  \n",
       "2      0          0       0      0     1       0        0     0        0  \n",
       "3      0          0       0      0     1       0        0     0        0  \n",
       "4      0          0       0      0     1       0        0     0        0  \n",
       "5      0          0       0      0     1       0        0     0        0  \n",
       "6      0          0       0      1     0       0        0     0        0  \n",
       "7      0          0       1      0     0       0        0     0        0  \n",
       "8      0          0       1      0     0       0        0     0        0  \n",
       "9      0          0       0      0     0       0        0     0        0  "
      ]
     },
     "execution_count": 316,
     "metadata": {},
     "output_type": "execute_result"
    }
   ],
   "source": [
    "category_col.head(10)"
   ]
  },
  {
   "cell_type": "markdown",
   "metadata": {},
   "source": [
    "**Konversi Tabel ke Platform dan Count Per Feature."
   ]
  },
  {
   "cell_type": "code",
   "execution_count": 317,
   "metadata": {},
   "outputs": [],
   "source": [
    "category_sum = category_col.groupby(by=[\"Platform\"]).sum().reset_index() "
   ]
  },
  {
   "cell_type": "code",
   "execution_count": 318,
   "metadata": {},
   "outputs": [
    {
     "data": {
      "text/html": [
       "<div>\n",
       "<style scoped>\n",
       "    .dataframe tbody tr th:only-of-type {\n",
       "        vertical-align: middle;\n",
       "    }\n",
       "\n",
       "    .dataframe tbody tr th {\n",
       "        vertical-align: top;\n",
       "    }\n",
       "\n",
       "    .dataframe thead th {\n",
       "        text-align: right;\n",
       "    }\n",
       "</style>\n",
       "<table border=\"1\" class=\"dataframe\">\n",
       "  <thead>\n",
       "    <tr style=\"text-align: right;\">\n",
       "      <th></th>\n",
       "      <th>Platform</th>\n",
       "      <th>Champions</th>\n",
       "      <th>Education</th>\n",
       "      <th>Entertainment</th>\n",
       "      <th>Funny</th>\n",
       "      <th>Horror</th>\n",
       "      <th>Kids</th>\n",
       "      <th>Korea</th>\n",
       "      <th>Lifestyle</th>\n",
       "      <th>Movies</th>\n",
       "      <th>Music</th>\n",
       "      <th>News</th>\n",
       "      <th>Sports</th>\n",
       "      <th>TV Show</th>\n",
       "      <th>Vlog</th>\n",
       "      <th>Webtoon</th>\n",
       "    </tr>\n",
       "  </thead>\n",
       "  <tbody>\n",
       "    <tr>\n",
       "      <th>0</th>\n",
       "      <td>app-android</td>\n",
       "      <td>233.0</td>\n",
       "      <td>66.0</td>\n",
       "      <td>5273.0</td>\n",
       "      <td>158.0</td>\n",
       "      <td>53.0</td>\n",
       "      <td>391.0</td>\n",
       "      <td>76.0</td>\n",
       "      <td>252.0</td>\n",
       "      <td>16511.0</td>\n",
       "      <td>4836.0</td>\n",
       "      <td>3006.0</td>\n",
       "      <td>1068.0</td>\n",
       "      <td>20108.0</td>\n",
       "      <td>2470.0</td>\n",
       "      <td>20.0</td>\n",
       "    </tr>\n",
       "    <tr>\n",
       "      <th>1</th>\n",
       "      <td>app-ios</td>\n",
       "      <td>5.0</td>\n",
       "      <td>7.0</td>\n",
       "      <td>212.0</td>\n",
       "      <td>6.0</td>\n",
       "      <td>4.0</td>\n",
       "      <td>8.0</td>\n",
       "      <td>7.0</td>\n",
       "      <td>6.0</td>\n",
       "      <td>924.0</td>\n",
       "      <td>126.0</td>\n",
       "      <td>219.0</td>\n",
       "      <td>62.0</td>\n",
       "      <td>992.0</td>\n",
       "      <td>143.0</td>\n",
       "      <td>0.0</td>\n",
       "    </tr>\n",
       "    <tr>\n",
       "      <th>2</th>\n",
       "      <td>tv-android</td>\n",
       "      <td>6.0</td>\n",
       "      <td>6.0</td>\n",
       "      <td>195.0</td>\n",
       "      <td>15.0</td>\n",
       "      <td>11.0</td>\n",
       "      <td>23.0</td>\n",
       "      <td>2.0</td>\n",
       "      <td>35.0</td>\n",
       "      <td>909.0</td>\n",
       "      <td>169.0</td>\n",
       "      <td>206.0</td>\n",
       "      <td>109.0</td>\n",
       "      <td>186.0</td>\n",
       "      <td>86.0</td>\n",
       "      <td>1.0</td>\n",
       "    </tr>\n",
       "    <tr>\n",
       "      <th>3</th>\n",
       "      <td>tv-tizen</td>\n",
       "      <td>0.0</td>\n",
       "      <td>3.0</td>\n",
       "      <td>65.0</td>\n",
       "      <td>2.0</td>\n",
       "      <td>0.0</td>\n",
       "      <td>12.0</td>\n",
       "      <td>0.0</td>\n",
       "      <td>5.0</td>\n",
       "      <td>402.0</td>\n",
       "      <td>31.0</td>\n",
       "      <td>54.0</td>\n",
       "      <td>35.0</td>\n",
       "      <td>59.0</td>\n",
       "      <td>23.0</td>\n",
       "      <td>0.0</td>\n",
       "    </tr>\n",
       "    <tr>\n",
       "      <th>4</th>\n",
       "      <td>tv-webos</td>\n",
       "      <td>0.0</td>\n",
       "      <td>0.0</td>\n",
       "      <td>2.0</td>\n",
       "      <td>0.0</td>\n",
       "      <td>0.0</td>\n",
       "      <td>0.0</td>\n",
       "      <td>0.0</td>\n",
       "      <td>0.0</td>\n",
       "      <td>2.0</td>\n",
       "      <td>0.0</td>\n",
       "      <td>0.0</td>\n",
       "      <td>1.0</td>\n",
       "      <td>0.0</td>\n",
       "      <td>0.0</td>\n",
       "      <td>0.0</td>\n",
       "    </tr>\n",
       "  </tbody>\n",
       "</table>\n",
       "</div>"
      ],
      "text/plain": [
       "      Platform  Champions  Education  Entertainment  Funny  Horror   Kids  \\\n",
       "0  app-android      233.0       66.0         5273.0  158.0    53.0  391.0   \n",
       "1      app-ios        5.0        7.0          212.0    6.0     4.0    8.0   \n",
       "2   tv-android        6.0        6.0          195.0   15.0    11.0   23.0   \n",
       "3     tv-tizen        0.0        3.0           65.0    2.0     0.0   12.0   \n",
       "4     tv-webos        0.0        0.0            2.0    0.0     0.0    0.0   \n",
       "\n",
       "   Korea  Lifestyle   Movies   Music    News  Sports  TV Show    Vlog  Webtoon  \n",
       "0   76.0      252.0  16511.0  4836.0  3006.0  1068.0  20108.0  2470.0     20.0  \n",
       "1    7.0        6.0    924.0   126.0   219.0    62.0    992.0   143.0      0.0  \n",
       "2    2.0       35.0    909.0   169.0   206.0   109.0    186.0    86.0      1.0  \n",
       "3    0.0        5.0    402.0    31.0    54.0    35.0     59.0    23.0      0.0  \n",
       "4    0.0        0.0      2.0     0.0     0.0     1.0      0.0     0.0      0.0  "
      ]
     },
     "execution_count": 318,
     "metadata": {},
     "output_type": "execute_result"
    }
   ],
   "source": [
    "category_sum.head()"
   ]
  },
  {
   "cell_type": "markdown",
   "metadata": {},
   "source": [
    "**Hasil Count Per Tiap tiap platform pada category."
   ]
  },
  {
   "cell_type": "markdown",
   "metadata": {},
   "source": [
    "**Define K Clusters K=4"
   ]
  },
  {
   "cell_type": "code",
   "execution_count": 319,
   "metadata": {},
   "outputs": [],
   "source": [
    "category_mean = category_col.groupby(by=[\"Platform\"]).mean().reset_index()"
   ]
  },
  {
   "cell_type": "code",
   "execution_count": 320,
   "metadata": {},
   "outputs": [
    {
     "data": {
      "text/html": [
       "<div>\n",
       "<style scoped>\n",
       "    .dataframe tbody tr th:only-of-type {\n",
       "        vertical-align: middle;\n",
       "    }\n",
       "\n",
       "    .dataframe tbody tr th {\n",
       "        vertical-align: top;\n",
       "    }\n",
       "\n",
       "    .dataframe thead th {\n",
       "        text-align: right;\n",
       "    }\n",
       "</style>\n",
       "<table border=\"1\" class=\"dataframe\">\n",
       "  <thead>\n",
       "    <tr style=\"text-align: right;\">\n",
       "      <th></th>\n",
       "      <th>Platform</th>\n",
       "      <th>Champions</th>\n",
       "      <th>Education</th>\n",
       "      <th>Entertainment</th>\n",
       "      <th>Funny</th>\n",
       "      <th>Horror</th>\n",
       "      <th>Kids</th>\n",
       "      <th>Korea</th>\n",
       "      <th>Lifestyle</th>\n",
       "      <th>Movies</th>\n",
       "      <th>Music</th>\n",
       "      <th>News</th>\n",
       "      <th>Sports</th>\n",
       "      <th>TV Show</th>\n",
       "      <th>Vlog</th>\n",
       "      <th>Webtoon</th>\n",
       "    </tr>\n",
       "  </thead>\n",
       "  <tbody>\n",
       "    <tr>\n",
       "      <th>0</th>\n",
       "      <td>app-android</td>\n",
       "      <td>0.001289</td>\n",
       "      <td>0.000365</td>\n",
       "      <td>0.029168</td>\n",
       "      <td>0.000874</td>\n",
       "      <td>0.000293</td>\n",
       "      <td>0.002163</td>\n",
       "      <td>0.000420</td>\n",
       "      <td>0.001394</td>\n",
       "      <td>0.091333</td>\n",
       "      <td>0.026751</td>\n",
       "      <td>0.016628</td>\n",
       "      <td>0.005908</td>\n",
       "      <td>0.111230</td>\n",
       "      <td>0.013663</td>\n",
       "      <td>0.000111</td>\n",
       "    </tr>\n",
       "    <tr>\n",
       "      <th>1</th>\n",
       "      <td>app-ios</td>\n",
       "      <td>0.000398</td>\n",
       "      <td>0.000558</td>\n",
       "      <td>0.016890</td>\n",
       "      <td>0.000478</td>\n",
       "      <td>0.000319</td>\n",
       "      <td>0.000637</td>\n",
       "      <td>0.000558</td>\n",
       "      <td>0.000478</td>\n",
       "      <td>0.073614</td>\n",
       "      <td>0.010038</td>\n",
       "      <td>0.017447</td>\n",
       "      <td>0.004939</td>\n",
       "      <td>0.079031</td>\n",
       "      <td>0.011393</td>\n",
       "      <td>0.000000</td>\n",
       "    </tr>\n",
       "    <tr>\n",
       "      <th>2</th>\n",
       "      <td>tv-android</td>\n",
       "      <td>0.000145</td>\n",
       "      <td>0.000145</td>\n",
       "      <td>0.004713</td>\n",
       "      <td>0.000363</td>\n",
       "      <td>0.000266</td>\n",
       "      <td>0.000556</td>\n",
       "      <td>0.000048</td>\n",
       "      <td>0.000846</td>\n",
       "      <td>0.021968</td>\n",
       "      <td>0.004084</td>\n",
       "      <td>0.004978</td>\n",
       "      <td>0.002634</td>\n",
       "      <td>0.004495</td>\n",
       "      <td>0.002078</td>\n",
       "      <td>0.000024</td>\n",
       "    </tr>\n",
       "    <tr>\n",
       "      <th>3</th>\n",
       "      <td>tv-tizen</td>\n",
       "      <td>0.000000</td>\n",
       "      <td>0.000425</td>\n",
       "      <td>0.009216</td>\n",
       "      <td>0.000284</td>\n",
       "      <td>0.000000</td>\n",
       "      <td>0.001701</td>\n",
       "      <td>0.000000</td>\n",
       "      <td>0.000709</td>\n",
       "      <td>0.056997</td>\n",
       "      <td>0.004395</td>\n",
       "      <td>0.007656</td>\n",
       "      <td>0.004962</td>\n",
       "      <td>0.008365</td>\n",
       "      <td>0.003261</td>\n",
       "      <td>0.000000</td>\n",
       "    </tr>\n",
       "    <tr>\n",
       "      <th>4</th>\n",
       "      <td>tv-webos</td>\n",
       "      <td>0.000000</td>\n",
       "      <td>0.000000</td>\n",
       "      <td>0.001712</td>\n",
       "      <td>0.000000</td>\n",
       "      <td>0.000000</td>\n",
       "      <td>0.000000</td>\n",
       "      <td>0.000000</td>\n",
       "      <td>0.000000</td>\n",
       "      <td>0.001712</td>\n",
       "      <td>0.000000</td>\n",
       "      <td>0.000000</td>\n",
       "      <td>0.000856</td>\n",
       "      <td>0.000000</td>\n",
       "      <td>0.000000</td>\n",
       "      <td>0.000000</td>\n",
       "    </tr>\n",
       "  </tbody>\n",
       "</table>\n",
       "</div>"
      ],
      "text/plain": [
       "      Platform  Champions  Education  Entertainment     Funny    Horror  \\\n",
       "0  app-android   0.001289   0.000365       0.029168  0.000874  0.000293   \n",
       "1      app-ios   0.000398   0.000558       0.016890  0.000478  0.000319   \n",
       "2   tv-android   0.000145   0.000145       0.004713  0.000363  0.000266   \n",
       "3     tv-tizen   0.000000   0.000425       0.009216  0.000284  0.000000   \n",
       "4     tv-webos   0.000000   0.000000       0.001712  0.000000  0.000000   \n",
       "\n",
       "       Kids     Korea  Lifestyle    Movies     Music      News    Sports  \\\n",
       "0  0.002163  0.000420   0.001394  0.091333  0.026751  0.016628  0.005908   \n",
       "1  0.000637  0.000558   0.000478  0.073614  0.010038  0.017447  0.004939   \n",
       "2  0.000556  0.000048   0.000846  0.021968  0.004084  0.004978  0.002634   \n",
       "3  0.001701  0.000000   0.000709  0.056997  0.004395  0.007656  0.004962   \n",
       "4  0.000000  0.000000   0.000000  0.001712  0.000000  0.000000  0.000856   \n",
       "\n",
       "    TV Show      Vlog   Webtoon  \n",
       "0  0.111230  0.013663  0.000111  \n",
       "1  0.079031  0.011393  0.000000  \n",
       "2  0.004495  0.002078  0.000024  \n",
       "3  0.008365  0.003261  0.000000  \n",
       "4  0.000000  0.000000  0.000000  "
      ]
     },
     "execution_count": 320,
     "metadata": {},
     "output_type": "execute_result"
    }
   ],
   "source": [
    "category_mean.head()"
   ]
  },
  {
   "cell_type": "code",
   "execution_count": 322,
   "metadata": {},
   "outputs": [
    {
     "data": {
      "text/html": [
       "<div>\n",
       "<style scoped>\n",
       "    .dataframe tbody tr th:only-of-type {\n",
       "        vertical-align: middle;\n",
       "    }\n",
       "\n",
       "    .dataframe tbody tr th {\n",
       "        vertical-align: top;\n",
       "    }\n",
       "\n",
       "    .dataframe thead th {\n",
       "        text-align: right;\n",
       "    }\n",
       "</style>\n",
       "<table border=\"1\" class=\"dataframe\">\n",
       "  <thead>\n",
       "    <tr style=\"text-align: right;\">\n",
       "      <th></th>\n",
       "      <th>Platform</th>\n",
       "      <th>Cluster Labels</th>\n",
       "      <th>Champions</th>\n",
       "      <th>Education</th>\n",
       "      <th>Entertainment</th>\n",
       "      <th>Funny</th>\n",
       "      <th>Horror</th>\n",
       "      <th>Kids</th>\n",
       "      <th>Korea</th>\n",
       "      <th>Lifestyle</th>\n",
       "      <th>Movies</th>\n",
       "      <th>Music</th>\n",
       "      <th>News</th>\n",
       "      <th>Sports</th>\n",
       "      <th>TV Show</th>\n",
       "      <th>Vlog</th>\n",
       "      <th>Webtoon</th>\n",
       "    </tr>\n",
       "  </thead>\n",
       "  <tbody>\n",
       "    <tr>\n",
       "      <th>0</th>\n",
       "      <td>app-android</td>\n",
       "      <td>3</td>\n",
       "      <td>233.0</td>\n",
       "      <td>66.0</td>\n",
       "      <td>5273.0</td>\n",
       "      <td>158.0</td>\n",
       "      <td>53.0</td>\n",
       "      <td>391.0</td>\n",
       "      <td>76.0</td>\n",
       "      <td>252.0</td>\n",
       "      <td>16511.0</td>\n",
       "      <td>4836.0</td>\n",
       "      <td>3006.0</td>\n",
       "      <td>1068.0</td>\n",
       "      <td>20108.0</td>\n",
       "      <td>2470.0</td>\n",
       "      <td>20.0</td>\n",
       "    </tr>\n",
       "    <tr>\n",
       "      <th>1</th>\n",
       "      <td>app-ios</td>\n",
       "      <td>3</td>\n",
       "      <td>5.0</td>\n",
       "      <td>7.0</td>\n",
       "      <td>212.0</td>\n",
       "      <td>6.0</td>\n",
       "      <td>4.0</td>\n",
       "      <td>8.0</td>\n",
       "      <td>7.0</td>\n",
       "      <td>6.0</td>\n",
       "      <td>924.0</td>\n",
       "      <td>126.0</td>\n",
       "      <td>219.0</td>\n",
       "      <td>62.0</td>\n",
       "      <td>992.0</td>\n",
       "      <td>143.0</td>\n",
       "      <td>0.0</td>\n",
       "    </tr>\n",
       "    <tr>\n",
       "      <th>2</th>\n",
       "      <td>tv-android</td>\n",
       "      <td>0</td>\n",
       "      <td>6.0</td>\n",
       "      <td>6.0</td>\n",
       "      <td>195.0</td>\n",
       "      <td>15.0</td>\n",
       "      <td>11.0</td>\n",
       "      <td>23.0</td>\n",
       "      <td>2.0</td>\n",
       "      <td>35.0</td>\n",
       "      <td>909.0</td>\n",
       "      <td>169.0</td>\n",
       "      <td>206.0</td>\n",
       "      <td>109.0</td>\n",
       "      <td>186.0</td>\n",
       "      <td>86.0</td>\n",
       "      <td>1.0</td>\n",
       "    </tr>\n",
       "    <tr>\n",
       "      <th>3</th>\n",
       "      <td>tv-tizen</td>\n",
       "      <td>0</td>\n",
       "      <td>0.0</td>\n",
       "      <td>3.0</td>\n",
       "      <td>65.0</td>\n",
       "      <td>2.0</td>\n",
       "      <td>0.0</td>\n",
       "      <td>12.0</td>\n",
       "      <td>0.0</td>\n",
       "      <td>5.0</td>\n",
       "      <td>402.0</td>\n",
       "      <td>31.0</td>\n",
       "      <td>54.0</td>\n",
       "      <td>35.0</td>\n",
       "      <td>59.0</td>\n",
       "      <td>23.0</td>\n",
       "      <td>0.0</td>\n",
       "    </tr>\n",
       "    <tr>\n",
       "      <th>4</th>\n",
       "      <td>tv-webos</td>\n",
       "      <td>0</td>\n",
       "      <td>0.0</td>\n",
       "      <td>0.0</td>\n",
       "      <td>2.0</td>\n",
       "      <td>0.0</td>\n",
       "      <td>0.0</td>\n",
       "      <td>0.0</td>\n",
       "      <td>0.0</td>\n",
       "      <td>0.0</td>\n",
       "      <td>2.0</td>\n",
       "      <td>0.0</td>\n",
       "      <td>0.0</td>\n",
       "      <td>1.0</td>\n",
       "      <td>0.0</td>\n",
       "      <td>0.0</td>\n",
       "      <td>0.0</td>\n",
       "    </tr>\n",
       "  </tbody>\n",
       "</table>\n",
       "</div>"
      ],
      "text/plain": [
       "      Platform  Cluster Labels  Champions  Education  Entertainment  Funny  \\\n",
       "0  app-android               3      233.0       66.0         5273.0  158.0   \n",
       "1      app-ios               3        5.0        7.0          212.0    6.0   \n",
       "2   tv-android               0        6.0        6.0          195.0   15.0   \n",
       "3     tv-tizen               0        0.0        3.0           65.0    2.0   \n",
       "4     tv-webos               0        0.0        0.0            2.0    0.0   \n",
       "\n",
       "   Horror   Kids  Korea  Lifestyle   Movies   Music    News  Sports  TV Show  \\\n",
       "0    53.0  391.0   76.0      252.0  16511.0  4836.0  3006.0  1068.0  20108.0   \n",
       "1     4.0    8.0    7.0        6.0    924.0   126.0   219.0    62.0    992.0   \n",
       "2    11.0   23.0    2.0       35.0    909.0   169.0   206.0   109.0    186.0   \n",
       "3     0.0   12.0    0.0        5.0    402.0    31.0    54.0    35.0     59.0   \n",
       "4     0.0    0.0    0.0        0.0      2.0     0.0     0.0     1.0      0.0   \n",
       "\n",
       "     Vlog  Webtoon  \n",
       "0  2470.0     20.0  \n",
       "1   143.0      0.0  \n",
       "2    86.0      1.0  \n",
       "3    23.0      0.0  \n",
       "4     0.0      0.0  "
      ]
     },
     "execution_count": 322,
     "metadata": {},
     "output_type": "execute_result"
    }
   ],
   "source": [
    "kclusters = 4\n",
    "category_clustering = category_mean.drop('Platform', 1)\n",
    "kmeans = k_means(X=category_clustering, n_clusters=kclusters, random_state=0)\n",
    "\n",
    "# add clustering labels\n",
    "category_clustered = category_sum.copy()\n",
    "category_clustered.insert(1, 'Cluster Labels', kmeans[1])\n",
    "category_clustered.head()"
   ]
  },
  {
   "cell_type": "markdown",
   "metadata": {},
   "source": [
    "**Hasil Klasterisasi 4 Kluster pengguna merupakan gabungan dari kategory2 dan minat dari platform yang ditonton."
   ]
  },
  {
   "cell_type": "code",
   "execution_count": 325,
   "metadata": {},
   "outputs": [
    {
     "data": {
      "text/html": [
       "<div>\n",
       "<style scoped>\n",
       "    .dataframe tbody tr th:only-of-type {\n",
       "        vertical-align: middle;\n",
       "    }\n",
       "\n",
       "    .dataframe tbody tr th {\n",
       "        vertical-align: top;\n",
       "    }\n",
       "\n",
       "    .dataframe thead th {\n",
       "        text-align: right;\n",
       "    }\n",
       "</style>\n",
       "<table border=\"1\" class=\"dataframe\">\n",
       "  <thead>\n",
       "    <tr style=\"text-align: right;\">\n",
       "      <th></th>\n",
       "      <th>Champions</th>\n",
       "      <th>Education</th>\n",
       "      <th>Entertainment</th>\n",
       "      <th>Funny</th>\n",
       "      <th>Horror</th>\n",
       "      <th>Kids</th>\n",
       "      <th>Korea</th>\n",
       "      <th>Lifestyle</th>\n",
       "      <th>Movies</th>\n",
       "      <th>Music</th>\n",
       "      <th>News</th>\n",
       "      <th>Sports</th>\n",
       "      <th>TV Show</th>\n",
       "      <th>Vlog</th>\n",
       "      <th>Webtoon</th>\n",
       "    </tr>\n",
       "    <tr>\n",
       "      <th>Cluster Labels</th>\n",
       "      <th></th>\n",
       "      <th></th>\n",
       "      <th></th>\n",
       "      <th></th>\n",
       "      <th></th>\n",
       "      <th></th>\n",
       "      <th></th>\n",
       "      <th></th>\n",
       "      <th></th>\n",
       "      <th></th>\n",
       "      <th></th>\n",
       "      <th></th>\n",
       "      <th></th>\n",
       "      <th></th>\n",
       "      <th></th>\n",
       "    </tr>\n",
       "  </thead>\n",
       "  <tbody>\n",
       "    <tr>\n",
       "      <th>0</th>\n",
       "      <td>6.0</td>\n",
       "      <td>9.0</td>\n",
       "      <td>262.0</td>\n",
       "      <td>17.0</td>\n",
       "      <td>11.0</td>\n",
       "      <td>35.0</td>\n",
       "      <td>2.0</td>\n",
       "      <td>40.0</td>\n",
       "      <td>1313.0</td>\n",
       "      <td>200.0</td>\n",
       "      <td>260.0</td>\n",
       "      <td>145.0</td>\n",
       "      <td>245.0</td>\n",
       "      <td>109.0</td>\n",
       "      <td>1.0</td>\n",
       "    </tr>\n",
       "    <tr>\n",
       "      <th>1</th>\n",
       "      <td>200.0</td>\n",
       "      <td>2259.0</td>\n",
       "      <td>134362.0</td>\n",
       "      <td>2985.0</td>\n",
       "      <td>129.0</td>\n",
       "      <td>541.0</td>\n",
       "      <td>891.0</td>\n",
       "      <td>8787.0</td>\n",
       "      <td>16990.0</td>\n",
       "      <td>10490.0</td>\n",
       "      <td>131060.0</td>\n",
       "      <td>48351.0</td>\n",
       "      <td>7494.0</td>\n",
       "      <td>8136.0</td>\n",
       "      <td>134.0</td>\n",
       "    </tr>\n",
       "    <tr>\n",
       "      <th>2</th>\n",
       "      <td>39.0</td>\n",
       "      <td>331.0</td>\n",
       "      <td>12709.0</td>\n",
       "      <td>155.0</td>\n",
       "      <td>20.0</td>\n",
       "      <td>175.0</td>\n",
       "      <td>106.0</td>\n",
       "      <td>413.0</td>\n",
       "      <td>4190.0</td>\n",
       "      <td>1341.0</td>\n",
       "      <td>12553.0</td>\n",
       "      <td>4343.0</td>\n",
       "      <td>1342.0</td>\n",
       "      <td>1108.0</td>\n",
       "      <td>31.0</td>\n",
       "    </tr>\n",
       "    <tr>\n",
       "      <th>3</th>\n",
       "      <td>238.0</td>\n",
       "      <td>73.0</td>\n",
       "      <td>5485.0</td>\n",
       "      <td>164.0</td>\n",
       "      <td>57.0</td>\n",
       "      <td>399.0</td>\n",
       "      <td>83.0</td>\n",
       "      <td>258.0</td>\n",
       "      <td>17435.0</td>\n",
       "      <td>4962.0</td>\n",
       "      <td>3225.0</td>\n",
       "      <td>1130.0</td>\n",
       "      <td>21100.0</td>\n",
       "      <td>2613.0</td>\n",
       "      <td>20.0</td>\n",
       "    </tr>\n",
       "  </tbody>\n",
       "</table>\n",
       "</div>"
      ],
      "text/plain": [
       "                Champions  Education  Entertainment   Funny  Horror   Kids  \\\n",
       "Cluster Labels                                                               \n",
       "0                     6.0        9.0          262.0    17.0    11.0   35.0   \n",
       "1                   200.0     2259.0       134362.0  2985.0   129.0  541.0   \n",
       "2                    39.0      331.0        12709.0   155.0    20.0  175.0   \n",
       "3                   238.0       73.0         5485.0   164.0    57.0  399.0   \n",
       "\n",
       "                Korea  Lifestyle   Movies    Music      News   Sports  \\\n",
       "Cluster Labels                                                          \n",
       "0                 2.0       40.0   1313.0    200.0     260.0    145.0   \n",
       "1               891.0     8787.0  16990.0  10490.0  131060.0  48351.0   \n",
       "2               106.0      413.0   4190.0   1341.0   12553.0   4343.0   \n",
       "3                83.0      258.0  17435.0   4962.0    3225.0   1130.0   \n",
       "\n",
       "                TV Show    Vlog  Webtoon  \n",
       "Cluster Labels                            \n",
       "0                 245.0   109.0      1.0  \n",
       "1                7494.0  8136.0    134.0  \n",
       "2                1342.0  1108.0     31.0  \n",
       "3               21100.0  2613.0     20.0  "
      ]
     },
     "execution_count": 325,
     "metadata": {},
     "output_type": "execute_result"
    }
   ],
   "source": [
    "cluster_summary = category_clustered.groupby(by=[\"Cluster Labels\"], axis=0).sum()\n",
    "cluster_summary.drop(columns=[\"Platform\"], inplace=True)\n",
    "cluster_summary"
   ]
  },
  {
   "cell_type": "markdown",
   "metadata": {},
   "source": [
    "**Kemudian Sum Hasil dari klasterisasi."
   ]
  },
  {
   "cell_type": "code",
   "execution_count": 326,
   "metadata": {},
   "outputs": [
    {
     "data": {
      "text/html": [
       "<div>\n",
       "<style scoped>\n",
       "    .dataframe tbody tr th:only-of-type {\n",
       "        vertical-align: middle;\n",
       "    }\n",
       "\n",
       "    .dataframe tbody tr th {\n",
       "        vertical-align: top;\n",
       "    }\n",
       "\n",
       "    .dataframe thead th {\n",
       "        text-align: right;\n",
       "    }\n",
       "</style>\n",
       "<table border=\"1\" class=\"dataframe\">\n",
       "  <thead>\n",
       "    <tr style=\"text-align: right;\">\n",
       "      <th></th>\n",
       "      <th>Cluster Labels</th>\n",
       "      <th>Champions</th>\n",
       "      <th>Education</th>\n",
       "      <th>Entertainment</th>\n",
       "      <th>Funny</th>\n",
       "      <th>Horror</th>\n",
       "      <th>Kids</th>\n",
       "      <th>Korea</th>\n",
       "      <th>Lifestyle</th>\n",
       "      <th>Movies</th>\n",
       "      <th>Music</th>\n",
       "      <th>News</th>\n",
       "      <th>Sports</th>\n",
       "      <th>TV Show</th>\n",
       "      <th>Vlog</th>\n",
       "      <th>Webtoon</th>\n",
       "    </tr>\n",
       "  </thead>\n",
       "  <tbody>\n",
       "    <tr>\n",
       "      <th>0</th>\n",
       "      <td>0</td>\n",
       "      <td>6.0</td>\n",
       "      <td>9.0</td>\n",
       "      <td>262.0</td>\n",
       "      <td>17.0</td>\n",
       "      <td>11.0</td>\n",
       "      <td>35.0</td>\n",
       "      <td>2.0</td>\n",
       "      <td>40.0</td>\n",
       "      <td>1313.0</td>\n",
       "      <td>200.0</td>\n",
       "      <td>260.0</td>\n",
       "      <td>145.0</td>\n",
       "      <td>245.0</td>\n",
       "      <td>109.0</td>\n",
       "      <td>1.0</td>\n",
       "    </tr>\n",
       "    <tr>\n",
       "      <th>1</th>\n",
       "      <td>1</td>\n",
       "      <td>200.0</td>\n",
       "      <td>2259.0</td>\n",
       "      <td>134362.0</td>\n",
       "      <td>2985.0</td>\n",
       "      <td>129.0</td>\n",
       "      <td>541.0</td>\n",
       "      <td>891.0</td>\n",
       "      <td>8787.0</td>\n",
       "      <td>16990.0</td>\n",
       "      <td>10490.0</td>\n",
       "      <td>131060.0</td>\n",
       "      <td>48351.0</td>\n",
       "      <td>7494.0</td>\n",
       "      <td>8136.0</td>\n",
       "      <td>134.0</td>\n",
       "    </tr>\n",
       "    <tr>\n",
       "      <th>2</th>\n",
       "      <td>2</td>\n",
       "      <td>39.0</td>\n",
       "      <td>331.0</td>\n",
       "      <td>12709.0</td>\n",
       "      <td>155.0</td>\n",
       "      <td>20.0</td>\n",
       "      <td>175.0</td>\n",
       "      <td>106.0</td>\n",
       "      <td>413.0</td>\n",
       "      <td>4190.0</td>\n",
       "      <td>1341.0</td>\n",
       "      <td>12553.0</td>\n",
       "      <td>4343.0</td>\n",
       "      <td>1342.0</td>\n",
       "      <td>1108.0</td>\n",
       "      <td>31.0</td>\n",
       "    </tr>\n",
       "    <tr>\n",
       "      <th>3</th>\n",
       "      <td>3</td>\n",
       "      <td>238.0</td>\n",
       "      <td>73.0</td>\n",
       "      <td>5485.0</td>\n",
       "      <td>164.0</td>\n",
       "      <td>57.0</td>\n",
       "      <td>399.0</td>\n",
       "      <td>83.0</td>\n",
       "      <td>258.0</td>\n",
       "      <td>17435.0</td>\n",
       "      <td>4962.0</td>\n",
       "      <td>3225.0</td>\n",
       "      <td>1130.0</td>\n",
       "      <td>21100.0</td>\n",
       "      <td>2613.0</td>\n",
       "      <td>20.0</td>\n",
       "    </tr>\n",
       "  </tbody>\n",
       "</table>\n",
       "</div>"
      ],
      "text/plain": [
       "   Cluster Labels  Champions  Education  Entertainment   Funny  Horror   Kids  \\\n",
       "0               0        6.0        9.0          262.0    17.0    11.0   35.0   \n",
       "1               1      200.0     2259.0       134362.0  2985.0   129.0  541.0   \n",
       "2               2       39.0      331.0        12709.0   155.0    20.0  175.0   \n",
       "3               3      238.0       73.0         5485.0   164.0    57.0  399.0   \n",
       "\n",
       "   Korea  Lifestyle   Movies    Music      News   Sports  TV Show    Vlog  \\\n",
       "0    2.0       40.0   1313.0    200.0     260.0    145.0    245.0   109.0   \n",
       "1  891.0     8787.0  16990.0  10490.0  131060.0  48351.0   7494.0  8136.0   \n",
       "2  106.0      413.0   4190.0   1341.0   12553.0   4343.0   1342.0  1108.0   \n",
       "3   83.0      258.0  17435.0   4962.0    3225.0   1130.0  21100.0  2613.0   \n",
       "\n",
       "   Webtoon  \n",
       "0      1.0  \n",
       "1    134.0  \n",
       "2     31.0  \n",
       "3     20.0  "
      ]
     },
     "execution_count": 326,
     "metadata": {},
     "output_type": "execute_result"
    }
   ],
   "source": [
    "cluster_summary.reset_index(inplace=True)\n",
    "cluster_summary"
   ]
  },
  {
   "cell_type": "code",
   "execution_count": 348,
   "metadata": {},
   "outputs": [
    {
     "data": {
      "text/html": [
       "<div>\n",
       "<style scoped>\n",
       "    .dataframe tbody tr th:only-of-type {\n",
       "        vertical-align: middle;\n",
       "    }\n",
       "\n",
       "    .dataframe tbody tr th {\n",
       "        vertical-align: top;\n",
       "    }\n",
       "\n",
       "    .dataframe thead th {\n",
       "        text-align: right;\n",
       "    }\n",
       "</style>\n",
       "<table border=\"1\" class=\"dataframe\">\n",
       "  <thead>\n",
       "    <tr style=\"text-align: right;\">\n",
       "      <th></th>\n",
       "      <th>Champions</th>\n",
       "      <th>Education</th>\n",
       "      <th>Entertainment</th>\n",
       "      <th>Funny</th>\n",
       "      <th>Horror</th>\n",
       "      <th>Kids</th>\n",
       "      <th>Korea</th>\n",
       "      <th>Lifestyle</th>\n",
       "      <th>Movies</th>\n",
       "      <th>Music</th>\n",
       "      <th>News</th>\n",
       "      <th>Sports</th>\n",
       "      <th>TV Show</th>\n",
       "      <th>Vlog</th>\n",
       "      <th>Webtoon</th>\n",
       "    </tr>\n",
       "  </thead>\n",
       "  <tbody>\n",
       "    <tr>\n",
       "      <th>0</th>\n",
       "      <td>13</td>\n",
       "      <td>12</td>\n",
       "      <td>2</td>\n",
       "      <td>10</td>\n",
       "      <td>11</td>\n",
       "      <td>9</td>\n",
       "      <td>14</td>\n",
       "      <td>8</td>\n",
       "      <td>1</td>\n",
       "      <td>5</td>\n",
       "      <td>3</td>\n",
       "      <td>6</td>\n",
       "      <td>4</td>\n",
       "      <td>7</td>\n",
       "      <td>15</td>\n",
       "    </tr>\n",
       "    <tr>\n",
       "      <th>1</th>\n",
       "      <td>13</td>\n",
       "      <td>10</td>\n",
       "      <td>1</td>\n",
       "      <td>9</td>\n",
       "      <td>15</td>\n",
       "      <td>12</td>\n",
       "      <td>11</td>\n",
       "      <td>6</td>\n",
       "      <td>4</td>\n",
       "      <td>5</td>\n",
       "      <td>2</td>\n",
       "      <td>3</td>\n",
       "      <td>8</td>\n",
       "      <td>7</td>\n",
       "      <td>14</td>\n",
       "    </tr>\n",
       "    <tr>\n",
       "      <th>2</th>\n",
       "      <td>13</td>\n",
       "      <td>9</td>\n",
       "      <td>1</td>\n",
       "      <td>11</td>\n",
       "      <td>15</td>\n",
       "      <td>10</td>\n",
       "      <td>12</td>\n",
       "      <td>8</td>\n",
       "      <td>4</td>\n",
       "      <td>6</td>\n",
       "      <td>2</td>\n",
       "      <td>3</td>\n",
       "      <td>5</td>\n",
       "      <td>7</td>\n",
       "      <td>14</td>\n",
       "    </tr>\n",
       "    <tr>\n",
       "      <th>3</th>\n",
       "      <td>10</td>\n",
       "      <td>13</td>\n",
       "      <td>3</td>\n",
       "      <td>11</td>\n",
       "      <td>14</td>\n",
       "      <td>8</td>\n",
       "      <td>12</td>\n",
       "      <td>9</td>\n",
       "      <td>2</td>\n",
       "      <td>4</td>\n",
       "      <td>5</td>\n",
       "      <td>7</td>\n",
       "      <td>1</td>\n",
       "      <td>6</td>\n",
       "      <td>15</td>\n",
       "    </tr>\n",
       "  </tbody>\n",
       "</table>\n",
       "</div>"
      ],
      "text/plain": [
       "   Champions  Education  Entertainment  Funny  Horror  Kids  Korea  Lifestyle  \\\n",
       "0         13         12              2     10      11     9     14          8   \n",
       "1         13         10              1      9      15    12     11          6   \n",
       "2         13          9              1     11      15    10     12          8   \n",
       "3         10         13              3     11      14     8     12          9   \n",
       "\n",
       "   Movies  Music  News  Sports  TV Show  Vlog  Webtoon  \n",
       "0       1      5     3       6        4     7       15  \n",
       "1       4      5     2       3        8     7       14  \n",
       "2       4      6     2       3        5     7       14  \n",
       "3       2      4     5       7        1     6       15  "
      ]
     },
     "execution_count": 348,
     "metadata": {},
     "output_type": "execute_result"
    }
   ],
   "source": [
    "cluster_summary.loc[:,'Champions':'Webtoon'].rank(axis=1, ascending=False, method='min').astype(int)"
   ]
  },
  {
   "cell_type": "markdown",
   "metadata": {},
   "source": [
    "**Kesimpulan Klasterisasi kategori Top One.\n",
    "Klaster 1 peringkat 1 adalah Movies, klaster 2 Entertainment, Klaster 3 Entertainment, Klaster 4 TV Show."
   ]
  },
  {
   "cell_type": "markdown",
   "metadata": {},
   "source": [
    "#### Alasan Mengapa Menggunakan Jupyter Notebook"
   ]
  },
  {
   "cell_type": "markdown",
   "metadata": {},
   "source": [
    "Karena Jupyter notebook terintegrasi dengan Python dan Juga untuk ML library juga sudah ada dengan scikit learn, serta visualisasi tools juga lengkap seperti seaborn/matplotlib, sehingga analysis dan development ML model jadi lebih mudah"
   ]
  }
 ],
 "metadata": {
  "kernelspec": {
   "display_name": "Python 3",
   "language": "python",
   "name": "python3"
  },
  "language_info": {
   "codemirror_mode": {
    "name": "ipython",
    "version": 3
   },
   "file_extension": ".py",
   "mimetype": "text/x-python",
   "name": "python",
   "nbconvert_exporter": "python",
   "pygments_lexer": "ipython3",
   "version": "3.7.7"
  }
 },
 "nbformat": 4,
 "nbformat_minor": 4
}
